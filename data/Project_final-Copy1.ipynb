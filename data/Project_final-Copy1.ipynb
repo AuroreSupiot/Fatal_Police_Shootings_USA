{
 "cells": [
  {
   "cell_type": "markdown",
   "metadata": {},
   "source": [
    "# Objectives"
   ]
  },
  {
   "cell_type": "markdown",
   "metadata": {},
   "source": [
    "The aim is to predict cities most impacted by fatal police shootings in the USA."
   ]
  },
  {
   "cell_type": "markdown",
   "metadata": {},
   "source": [
    "# Dataset"
   ]
  },
  {
   "cell_type": "markdown",
   "metadata": {},
   "source": [
    "Source of fatal police shootings between 2015 & 2017 : https://www.kaggle.com/kwullum/fatal-police-shootings-in-the-us"
   ]
  },
  {
   "cell_type": "markdown",
   "metadata": {},
   "source": [
    "Source of number of fatal shootings between 2000 & 2016 : https://data.world/awram/us-police-involved-fatalities"
   ]
  },
  {
   "cell_type": "markdown",
   "metadata": {},
   "source": [
    "Source of data on poverty rate, high school graduation rate, median household income, racial demographics and total population : https://www.census.gov/"
   ]
  },
  {
   "cell_type": "markdown",
   "metadata": {},
   "source": [
    "# Libraries"
   ]
  },
  {
   "cell_type": "code",
   "execution_count": 1,
   "metadata": {},
   "outputs": [],
   "source": [
    "import numpy as np\n",
    "import pandas as pd"
   ]
  },
  {
   "cell_type": "code",
   "execution_count": 2,
   "metadata": {},
   "outputs": [],
   "source": [
    "from imblearn.over_sampling import SMOTE\n",
    "from imblearn.under_sampling import RandomUnderSampler\n",
    "from imblearn.pipeline import Pipeline\n",
    "from collections import Counter\n",
    "from imblearn.over_sampling import BorderlineSMOTE"
   ]
  },
  {
   "cell_type": "code",
   "execution_count": 3,
   "metadata": {},
   "outputs": [],
   "source": [
    "import matplotlib.pyplot as plt\n",
    "%matplotlib inline\n",
    "import seaborn as sns\n",
    "import matplotlib.colors as mcolors"
   ]
  },
  {
   "cell_type": "code",
   "execution_count": 4,
   "metadata": {},
   "outputs": [],
   "source": [
    "from os import path\n",
    "from PIL import Image\n",
    "from wordcloud import WordCloud, STOPWORDS, ImageColorGenerator"
   ]
  },
  {
   "cell_type": "code",
   "execution_count": 65,
   "metadata": {},
   "outputs": [],
   "source": [
    "from functools import partial\n",
    "\n",
    "from sklearn.datasets import fetch_openml\n",
    "from sklearn.compose import ColumnTransformer\n",
    "from sklearn.linear_model import PoissonRegressor, GammaRegressor\n",
    "from sklearn.linear_model import TweedieRegressor\n",
    "from sklearn.metrics import mean_tweedie_deviance\n",
    "from sklearn.model_selection import train_test_split\n",
    "from sklearn.pipeline import make_pipeline\n",
    "from sklearn.preprocessing import FunctionTransformer, OneHotEncoder\n",
    "from sklearn.preprocessing import StandardScaler, KBinsDiscretizer\n",
    "from sklearn.linear_model import LinearRegression\n",
    "from sklearn.metrics import mean_absolute_error, mean_squared_error, auc\n",
    "from sklearn.metrics import mean_squared_log_error\n",
    "from sklearn.dummy import DummyRegressor\n",
    "from mlxtend.feature_selection import SequentialFeatureSelector as sfs"
   ]
  },
  {
   "cell_type": "markdown",
   "metadata": {},
   "source": [
    "# Data cleaning"
   ]
  },
  {
   "cell_type": "markdown",
   "metadata": {},
   "source": [
    "2 datasets about fatal shooting in the US by a police officer for 2 periods:\n",
    "* 2015 - 2017: https://www.kaggle.com/kwullum/fatal-police-shootings-in-the-us\n",
    "* 2000 - 2016: https://data.world/awram/us-police-involved-fatalities\n",
    "\n",
    "The goal in this first part is :\n",
    "* to join the 2 datasets on the same columns\n",
    "* to clean the new one\n",
    "* to drop duplicates rows given that some data can complete each other from the 2 datasets."
   ]
  },
  {
   "cell_type": "code",
   "execution_count": 6,
   "metadata": {},
   "outputs": [],
   "source": [
    "df_new=pd.read_csv('data/PoliceKillingsUS_2015_2017.csv', encoding = \"ISO-8859-1\")"
   ]
  },
  {
   "cell_type": "code",
   "execution_count": 7,
   "metadata": {},
   "outputs": [
    {
     "data": {
      "text/html": [
       "<div>\n",
       "<style scoped>\n",
       "    .dataframe tbody tr th:only-of-type {\n",
       "        vertical-align: middle;\n",
       "    }\n",
       "\n",
       "    .dataframe tbody tr th {\n",
       "        vertical-align: top;\n",
       "    }\n",
       "\n",
       "    .dataframe thead th {\n",
       "        text-align: right;\n",
       "    }\n",
       "</style>\n",
       "<table border=\"1\" class=\"dataframe\">\n",
       "  <thead>\n",
       "    <tr style=\"text-align: right;\">\n",
       "      <th></th>\n",
       "      <th>id</th>\n",
       "      <th>name</th>\n",
       "      <th>date</th>\n",
       "      <th>manner_of_death</th>\n",
       "      <th>armed</th>\n",
       "      <th>age</th>\n",
       "      <th>gender</th>\n",
       "      <th>race</th>\n",
       "      <th>city</th>\n",
       "      <th>state</th>\n",
       "      <th>signs_of_mental_illness</th>\n",
       "      <th>threat_level</th>\n",
       "      <th>flee</th>\n",
       "      <th>body_camera</th>\n",
       "    </tr>\n",
       "  </thead>\n",
       "  <tbody>\n",
       "    <tr>\n",
       "      <th>0</th>\n",
       "      <td>3</td>\n",
       "      <td>Tim Elliot</td>\n",
       "      <td>02/01/15</td>\n",
       "      <td>shot</td>\n",
       "      <td>gun</td>\n",
       "      <td>53.0</td>\n",
       "      <td>M</td>\n",
       "      <td>A</td>\n",
       "      <td>Shelton</td>\n",
       "      <td>WA</td>\n",
       "      <td>True</td>\n",
       "      <td>attack</td>\n",
       "      <td>Not fleeing</td>\n",
       "      <td>False</td>\n",
       "    </tr>\n",
       "    <tr>\n",
       "      <th>1</th>\n",
       "      <td>4</td>\n",
       "      <td>Lewis Lee Lembke</td>\n",
       "      <td>02/01/15</td>\n",
       "      <td>shot</td>\n",
       "      <td>gun</td>\n",
       "      <td>47.0</td>\n",
       "      <td>M</td>\n",
       "      <td>W</td>\n",
       "      <td>Aloha</td>\n",
       "      <td>OR</td>\n",
       "      <td>False</td>\n",
       "      <td>attack</td>\n",
       "      <td>Not fleeing</td>\n",
       "      <td>False</td>\n",
       "    </tr>\n",
       "    <tr>\n",
       "      <th>2</th>\n",
       "      <td>5</td>\n",
       "      <td>John Paul Quintero</td>\n",
       "      <td>03/01/15</td>\n",
       "      <td>shot and Tasered</td>\n",
       "      <td>unarmed</td>\n",
       "      <td>23.0</td>\n",
       "      <td>M</td>\n",
       "      <td>H</td>\n",
       "      <td>Wichita</td>\n",
       "      <td>KS</td>\n",
       "      <td>False</td>\n",
       "      <td>other</td>\n",
       "      <td>Not fleeing</td>\n",
       "      <td>False</td>\n",
       "    </tr>\n",
       "    <tr>\n",
       "      <th>3</th>\n",
       "      <td>8</td>\n",
       "      <td>Matthew Hoffman</td>\n",
       "      <td>04/01/15</td>\n",
       "      <td>shot</td>\n",
       "      <td>toy weapon</td>\n",
       "      <td>32.0</td>\n",
       "      <td>M</td>\n",
       "      <td>W</td>\n",
       "      <td>San Francisco</td>\n",
       "      <td>CA</td>\n",
       "      <td>True</td>\n",
       "      <td>attack</td>\n",
       "      <td>Not fleeing</td>\n",
       "      <td>False</td>\n",
       "    </tr>\n",
       "    <tr>\n",
       "      <th>4</th>\n",
       "      <td>9</td>\n",
       "      <td>Michael Rodriguez</td>\n",
       "      <td>04/01/15</td>\n",
       "      <td>shot</td>\n",
       "      <td>nail gun</td>\n",
       "      <td>39.0</td>\n",
       "      <td>M</td>\n",
       "      <td>H</td>\n",
       "      <td>Evans</td>\n",
       "      <td>CO</td>\n",
       "      <td>False</td>\n",
       "      <td>attack</td>\n",
       "      <td>Not fleeing</td>\n",
       "      <td>False</td>\n",
       "    </tr>\n",
       "    <tr>\n",
       "      <th>...</th>\n",
       "      <td>...</td>\n",
       "      <td>...</td>\n",
       "      <td>...</td>\n",
       "      <td>...</td>\n",
       "      <td>...</td>\n",
       "      <td>...</td>\n",
       "      <td>...</td>\n",
       "      <td>...</td>\n",
       "      <td>...</td>\n",
       "      <td>...</td>\n",
       "      <td>...</td>\n",
       "      <td>...</td>\n",
       "      <td>...</td>\n",
       "      <td>...</td>\n",
       "    </tr>\n",
       "    <tr>\n",
       "      <th>2530</th>\n",
       "      <td>2822</td>\n",
       "      <td>Rodney E. Jacobs</td>\n",
       "      <td>28/07/17</td>\n",
       "      <td>shot</td>\n",
       "      <td>gun</td>\n",
       "      <td>31.0</td>\n",
       "      <td>M</td>\n",
       "      <td>NaN</td>\n",
       "      <td>Kansas City</td>\n",
       "      <td>MO</td>\n",
       "      <td>False</td>\n",
       "      <td>attack</td>\n",
       "      <td>Not fleeing</td>\n",
       "      <td>False</td>\n",
       "    </tr>\n",
       "    <tr>\n",
       "      <th>2531</th>\n",
       "      <td>2813</td>\n",
       "      <td>TK TK</td>\n",
       "      <td>28/07/17</td>\n",
       "      <td>shot</td>\n",
       "      <td>vehicle</td>\n",
       "      <td>NaN</td>\n",
       "      <td>M</td>\n",
       "      <td>NaN</td>\n",
       "      <td>Albuquerque</td>\n",
       "      <td>NM</td>\n",
       "      <td>False</td>\n",
       "      <td>attack</td>\n",
       "      <td>Car</td>\n",
       "      <td>False</td>\n",
       "    </tr>\n",
       "    <tr>\n",
       "      <th>2532</th>\n",
       "      <td>2818</td>\n",
       "      <td>Dennis W. Robinson</td>\n",
       "      <td>29/07/17</td>\n",
       "      <td>shot</td>\n",
       "      <td>gun</td>\n",
       "      <td>48.0</td>\n",
       "      <td>M</td>\n",
       "      <td>NaN</td>\n",
       "      <td>Melba</td>\n",
       "      <td>ID</td>\n",
       "      <td>False</td>\n",
       "      <td>attack</td>\n",
       "      <td>Car</td>\n",
       "      <td>False</td>\n",
       "    </tr>\n",
       "    <tr>\n",
       "      <th>2533</th>\n",
       "      <td>2817</td>\n",
       "      <td>Isaiah Tucker</td>\n",
       "      <td>31/07/17</td>\n",
       "      <td>shot</td>\n",
       "      <td>vehicle</td>\n",
       "      <td>28.0</td>\n",
       "      <td>M</td>\n",
       "      <td>B</td>\n",
       "      <td>Oshkosh</td>\n",
       "      <td>WI</td>\n",
       "      <td>False</td>\n",
       "      <td>attack</td>\n",
       "      <td>Car</td>\n",
       "      <td>True</td>\n",
       "    </tr>\n",
       "    <tr>\n",
       "      <th>2534</th>\n",
       "      <td>2815</td>\n",
       "      <td>Dwayne Jeune</td>\n",
       "      <td>31/07/17</td>\n",
       "      <td>shot</td>\n",
       "      <td>knife</td>\n",
       "      <td>32.0</td>\n",
       "      <td>M</td>\n",
       "      <td>B</td>\n",
       "      <td>Brooklyn</td>\n",
       "      <td>NY</td>\n",
       "      <td>True</td>\n",
       "      <td>attack</td>\n",
       "      <td>Not fleeing</td>\n",
       "      <td>False</td>\n",
       "    </tr>\n",
       "  </tbody>\n",
       "</table>\n",
       "<p>2535 rows × 14 columns</p>\n",
       "</div>"
      ],
      "text/plain": [
       "        id                name      date   manner_of_death       armed   age  \\\n",
       "0        3          Tim Elliot  02/01/15              shot         gun  53.0   \n",
       "1        4    Lewis Lee Lembke  02/01/15              shot         gun  47.0   \n",
       "2        5  John Paul Quintero  03/01/15  shot and Tasered     unarmed  23.0   \n",
       "3        8     Matthew Hoffman  04/01/15              shot  toy weapon  32.0   \n",
       "4        9   Michael Rodriguez  04/01/15              shot    nail gun  39.0   \n",
       "...    ...                 ...       ...               ...         ...   ...   \n",
       "2530  2822    Rodney E. Jacobs  28/07/17              shot         gun  31.0   \n",
       "2531  2813               TK TK  28/07/17              shot     vehicle   NaN   \n",
       "2532  2818  Dennis W. Robinson  29/07/17              shot         gun  48.0   \n",
       "2533  2817       Isaiah Tucker  31/07/17              shot     vehicle  28.0   \n",
       "2534  2815        Dwayne Jeune  31/07/17              shot       knife  32.0   \n",
       "\n",
       "     gender race           city state  signs_of_mental_illness threat_level  \\\n",
       "0         M    A        Shelton    WA                     True       attack   \n",
       "1         M    W          Aloha    OR                    False       attack   \n",
       "2         M    H        Wichita    KS                    False        other   \n",
       "3         M    W  San Francisco    CA                     True       attack   \n",
       "4         M    H          Evans    CO                    False       attack   \n",
       "...     ...  ...            ...   ...                      ...          ...   \n",
       "2530      M  NaN    Kansas City    MO                    False       attack   \n",
       "2531      M  NaN    Albuquerque    NM                    False       attack   \n",
       "2532      M  NaN          Melba    ID                    False       attack   \n",
       "2533      M    B        Oshkosh    WI                    False       attack   \n",
       "2534      M    B       Brooklyn    NY                     True       attack   \n",
       "\n",
       "             flee  body_camera  \n",
       "0     Not fleeing        False  \n",
       "1     Not fleeing        False  \n",
       "2     Not fleeing        False  \n",
       "3     Not fleeing        False  \n",
       "4     Not fleeing        False  \n",
       "...           ...          ...  \n",
       "2530  Not fleeing        False  \n",
       "2531          Car        False  \n",
       "2532          Car        False  \n",
       "2533          Car         True  \n",
       "2534  Not fleeing        False  \n",
       "\n",
       "[2535 rows x 14 columns]"
      ]
     },
     "execution_count": 7,
     "metadata": {},
     "output_type": "execute_result"
    }
   ],
   "source": [
    "df_new"
   ]
  },
  {
   "cell_type": "code",
   "execution_count": 8,
   "metadata": {},
   "outputs": [],
   "source": [
    "df_old=pd.read_csv('data/awram-us-police-involved-fatalities2000_2015/Police Fatalities.csv', encoding = \"ISO-8859-1\")"
   ]
  },
  {
   "cell_type": "code",
   "execution_count": 9,
   "metadata": {
    "scrolled": false
   },
   "outputs": [
    {
     "data": {
      "text/html": [
       "<div>\n",
       "<style scoped>\n",
       "    .dataframe tbody tr th:only-of-type {\n",
       "        vertical-align: middle;\n",
       "    }\n",
       "\n",
       "    .dataframe tbody tr th {\n",
       "        vertical-align: top;\n",
       "    }\n",
       "\n",
       "    .dataframe thead th {\n",
       "        text-align: right;\n",
       "    }\n",
       "</style>\n",
       "<table border=\"1\" class=\"dataframe\">\n",
       "  <thead>\n",
       "    <tr style=\"text-align: right;\">\n",
       "      <th></th>\n",
       "      <th>UID</th>\n",
       "      <th>Name</th>\n",
       "      <th>Age</th>\n",
       "      <th>Gender</th>\n",
       "      <th>Race</th>\n",
       "      <th>Date</th>\n",
       "      <th>City</th>\n",
       "      <th>State</th>\n",
       "      <th>Manner_of_death</th>\n",
       "      <th>Armed</th>\n",
       "      <th>Mental_illness</th>\n",
       "      <th>Flee</th>\n",
       "    </tr>\n",
       "  </thead>\n",
       "  <tbody>\n",
       "    <tr>\n",
       "      <th>0</th>\n",
       "      <td>133</td>\n",
       "      <td>Karen O. Chin</td>\n",
       "      <td>44.0</td>\n",
       "      <td>Female</td>\n",
       "      <td>Asian</td>\n",
       "      <td>5/4/2000</td>\n",
       "      <td>Alameda</td>\n",
       "      <td>CA</td>\n",
       "      <td>Shot</td>\n",
       "      <td>NaN</td>\n",
       "      <td>False</td>\n",
       "      <td>False</td>\n",
       "    </tr>\n",
       "    <tr>\n",
       "      <th>1</th>\n",
       "      <td>169</td>\n",
       "      <td>Chyraphone Komvongsa</td>\n",
       "      <td>26.0</td>\n",
       "      <td>Male</td>\n",
       "      <td>Asian</td>\n",
       "      <td>6/2/2000</td>\n",
       "      <td>Fresno</td>\n",
       "      <td>CA</td>\n",
       "      <td>Shot</td>\n",
       "      <td>NaN</td>\n",
       "      <td>False</td>\n",
       "      <td>False</td>\n",
       "    </tr>\n",
       "    <tr>\n",
       "      <th>2</th>\n",
       "      <td>257</td>\n",
       "      <td>Ming Chinh Ly</td>\n",
       "      <td>36.0</td>\n",
       "      <td>Male</td>\n",
       "      <td>Asian</td>\n",
       "      <td>8/13/2000</td>\n",
       "      <td>Rosemead</td>\n",
       "      <td>CA</td>\n",
       "      <td>Shot</td>\n",
       "      <td>Gun</td>\n",
       "      <td>False</td>\n",
       "      <td>False</td>\n",
       "    </tr>\n",
       "    <tr>\n",
       "      <th>3</th>\n",
       "      <td>483</td>\n",
       "      <td>Kinh Quoc Dao</td>\n",
       "      <td>29.0</td>\n",
       "      <td>Male</td>\n",
       "      <td>Asian</td>\n",
       "      <td>2/9/2001</td>\n",
       "      <td>Valley Glen</td>\n",
       "      <td>CA</td>\n",
       "      <td>Shot</td>\n",
       "      <td>Gun</td>\n",
       "      <td>False</td>\n",
       "      <td>False</td>\n",
       "    </tr>\n",
       "    <tr>\n",
       "      <th>4</th>\n",
       "      <td>655</td>\n",
       "      <td>Vanpaseuth Phaisouphanh</td>\n",
       "      <td>25.0</td>\n",
       "      <td>Male</td>\n",
       "      <td>Asian</td>\n",
       "      <td>6/10/2001</td>\n",
       "      <td>Riverside</td>\n",
       "      <td>CA</td>\n",
       "      <td>Shot</td>\n",
       "      <td>Knife</td>\n",
       "      <td>False</td>\n",
       "      <td>False</td>\n",
       "    </tr>\n",
       "    <tr>\n",
       "      <th>...</th>\n",
       "      <td>...</td>\n",
       "      <td>...</td>\n",
       "      <td>...</td>\n",
       "      <td>...</td>\n",
       "      <td>...</td>\n",
       "      <td>...</td>\n",
       "      <td>...</td>\n",
       "      <td>...</td>\n",
       "      <td>...</td>\n",
       "      <td>...</td>\n",
       "      <td>...</td>\n",
       "      <td>...</td>\n",
       "    </tr>\n",
       "    <tr>\n",
       "      <th>12486</th>\n",
       "      <td>12388</td>\n",
       "      <td>Name withheld by police</td>\n",
       "      <td>NaN</td>\n",
       "      <td>Male</td>\n",
       "      <td>NaN</td>\n",
       "      <td>12/9/2008</td>\n",
       "      <td>Sacramento</td>\n",
       "      <td>CA</td>\n",
       "      <td>Other</td>\n",
       "      <td>NaN</td>\n",
       "      <td>False</td>\n",
       "      <td>False</td>\n",
       "    </tr>\n",
       "    <tr>\n",
       "      <th>12487</th>\n",
       "      <td>12429</td>\n",
       "      <td>Gene Lovell Ford</td>\n",
       "      <td>48.0</td>\n",
       "      <td>Male</td>\n",
       "      <td>NaN</td>\n",
       "      <td>8/6/2008</td>\n",
       "      <td>Sacramento</td>\n",
       "      <td>CA</td>\n",
       "      <td>Other</td>\n",
       "      <td>NaN</td>\n",
       "      <td>True</td>\n",
       "      <td>False</td>\n",
       "    </tr>\n",
       "    <tr>\n",
       "      <th>12488</th>\n",
       "      <td>12430</td>\n",
       "      <td>Jose Vega</td>\n",
       "      <td>38.0</td>\n",
       "      <td>Male</td>\n",
       "      <td>NaN</td>\n",
       "      <td>8/6/2008</td>\n",
       "      <td>Visalia</td>\n",
       "      <td>CA</td>\n",
       "      <td>Other</td>\n",
       "      <td>NaN</td>\n",
       "      <td>True</td>\n",
       "      <td>False</td>\n",
       "    </tr>\n",
       "    <tr>\n",
       "      <th>12489</th>\n",
       "      <td>12636</td>\n",
       "      <td>Humberto Torres</td>\n",
       "      <td>41.0</td>\n",
       "      <td>Male</td>\n",
       "      <td>NaN</td>\n",
       "      <td>3/21/2009</td>\n",
       "      <td>Delano</td>\n",
       "      <td>CA</td>\n",
       "      <td>Other</td>\n",
       "      <td>Gun</td>\n",
       "      <td>False</td>\n",
       "      <td>False</td>\n",
       "    </tr>\n",
       "    <tr>\n",
       "      <th>12490</th>\n",
       "      <td>12861</td>\n",
       "      <td>Name withheld by police</td>\n",
       "      <td>39.0</td>\n",
       "      <td>Male</td>\n",
       "      <td>NaN</td>\n",
       "      <td>1/15/2010</td>\n",
       "      <td>Los Angeles</td>\n",
       "      <td>CA</td>\n",
       "      <td>Other</td>\n",
       "      <td>NaN</td>\n",
       "      <td>False</td>\n",
       "      <td>False</td>\n",
       "    </tr>\n",
       "  </tbody>\n",
       "</table>\n",
       "<p>12491 rows × 12 columns</p>\n",
       "</div>"
      ],
      "text/plain": [
       "         UID                     Name   Age  Gender   Race       Date  \\\n",
       "0        133            Karen O. Chin  44.0  Female  Asian   5/4/2000   \n",
       "1        169     Chyraphone Komvongsa  26.0    Male  Asian   6/2/2000   \n",
       "2        257            Ming Chinh Ly  36.0    Male  Asian  8/13/2000   \n",
       "3        483            Kinh Quoc Dao  29.0    Male  Asian   2/9/2001   \n",
       "4        655  Vanpaseuth Phaisouphanh  25.0    Male  Asian  6/10/2001   \n",
       "...      ...                      ...   ...     ...    ...        ...   \n",
       "12486  12388  Name withheld by police   NaN    Male    NaN  12/9/2008   \n",
       "12487  12429         Gene Lovell Ford  48.0    Male    NaN   8/6/2008   \n",
       "12488  12430                Jose Vega  38.0    Male    NaN   8/6/2008   \n",
       "12489  12636          Humberto Torres  41.0    Male    NaN  3/21/2009   \n",
       "12490  12861  Name withheld by police  39.0    Male    NaN  1/15/2010   \n",
       "\n",
       "              City State Manner_of_death  Armed  Mental_illness   Flee  \n",
       "0          Alameda    CA            Shot    NaN           False  False  \n",
       "1           Fresno    CA            Shot    NaN           False  False  \n",
       "2         Rosemead    CA            Shot    Gun           False  False  \n",
       "3      Valley Glen    CA            Shot    Gun           False  False  \n",
       "4        Riverside    CA            Shot  Knife           False  False  \n",
       "...            ...   ...             ...    ...             ...    ...  \n",
       "12486   Sacramento    CA           Other    NaN           False  False  \n",
       "12487   Sacramento    CA           Other    NaN            True  False  \n",
       "12488      Visalia    CA           Other    NaN            True  False  \n",
       "12489       Delano    CA           Other    Gun           False  False  \n",
       "12490  Los Angeles    CA           Other    NaN           False  False  \n",
       "\n",
       "[12491 rows x 12 columns]"
      ]
     },
     "execution_count": 9,
     "metadata": {},
     "output_type": "execute_result"
    }
   ],
   "source": [
    "df_old"
   ]
  },
  {
   "cell_type": "code",
   "execution_count": 10,
   "metadata": {},
   "outputs": [
    {
     "data": {
      "text/plain": [
       "attack          0.635503\n",
       "other           0.302170\n",
       "undetermined    0.062327\n",
       "Name: threat_level, dtype: float64"
      ]
     },
     "execution_count": 10,
     "metadata": {},
     "output_type": "execute_result"
    }
   ],
   "source": [
    "df_new.threat_level.value_counts(normalize=True)"
   ]
  },
  {
   "cell_type": "markdown",
   "metadata": {},
   "source": [
    "Only two columns are different between the two datasets. There is no 'threat_level' and no 'body_camera' in the second one. As the first didn't provide relevant value (we don't know anything for 1/3 of the data), I can drop this column. Same for the second."
   ]
  },
  {
   "cell_type": "code",
   "execution_count": 11,
   "metadata": {},
   "outputs": [],
   "source": [
    "df_new.drop(['id', 'threat_level', 'body_camera' ], axis=1, inplace=True) "
   ]
  },
  {
   "cell_type": "code",
   "execution_count": 12,
   "metadata": {},
   "outputs": [],
   "source": [
    "df_old.drop('UID', axis=1, inplace=True)"
   ]
  },
  {
   "cell_type": "code",
   "execution_count": 13,
   "metadata": {},
   "outputs": [],
   "source": [
    "# different format of date in the 2 dataframe\n",
    "df_new['date'] = pd.to_datetime(df_new['date'], dayfirst=True)\n",
    "df_old['Date'] = pd.to_datetime(df_old['Date'])"
   ]
  },
  {
   "cell_type": "code",
   "execution_count": 14,
   "metadata": {},
   "outputs": [],
   "source": [
    "df_old.columns=[i.lower() for i in df_old.columns]"
   ]
  },
  {
   "cell_type": "code",
   "execution_count": 15,
   "metadata": {},
   "outputs": [
    {
     "data": {
      "text/plain": [
       "['mental_illness']"
      ]
     },
     "execution_count": 15,
     "metadata": {},
     "output_type": "execute_result"
    }
   ],
   "source": [
    "[i for i in df_old.columns if i not in df_new.columns]"
   ]
  },
  {
   "cell_type": "code",
   "execution_count": 16,
   "metadata": {},
   "outputs": [],
   "source": [
    "df_old['signs_of_mental_illness']=df_old['mental_illness']\n",
    "df_old.drop('mental_illness', axis=1, inplace=True)"
   ]
  },
  {
   "cell_type": "code",
   "execution_count": 17,
   "metadata": {},
   "outputs": [],
   "source": [
    "#the name of columns of the 2 df are the same, they can be merged\n",
    "df = df_new.append(df_old)"
   ]
  },
  {
   "cell_type": "code",
   "execution_count": 18,
   "metadata": {},
   "outputs": [
    {
     "data": {
      "text/html": [
       "<div>\n",
       "<style scoped>\n",
       "    .dataframe tbody tr th:only-of-type {\n",
       "        vertical-align: middle;\n",
       "    }\n",
       "\n",
       "    .dataframe tbody tr th {\n",
       "        vertical-align: top;\n",
       "    }\n",
       "\n",
       "    .dataframe thead th {\n",
       "        text-align: right;\n",
       "    }\n",
       "</style>\n",
       "<table border=\"1\" class=\"dataframe\">\n",
       "  <thead>\n",
       "    <tr style=\"text-align: right;\">\n",
       "      <th></th>\n",
       "      <th>name</th>\n",
       "      <th>date</th>\n",
       "      <th>manner_of_death</th>\n",
       "      <th>armed</th>\n",
       "      <th>age</th>\n",
       "      <th>gender</th>\n",
       "      <th>race</th>\n",
       "      <th>city</th>\n",
       "      <th>state</th>\n",
       "      <th>signs_of_mental_illness</th>\n",
       "      <th>flee</th>\n",
       "    </tr>\n",
       "  </thead>\n",
       "  <tbody>\n",
       "    <tr>\n",
       "      <th>0</th>\n",
       "      <td>Tim Elliot</td>\n",
       "      <td>2015-01-02</td>\n",
       "      <td>shot</td>\n",
       "      <td>gun</td>\n",
       "      <td>53.0</td>\n",
       "      <td>M</td>\n",
       "      <td>A</td>\n",
       "      <td>Shelton</td>\n",
       "      <td>WA</td>\n",
       "      <td>True</td>\n",
       "      <td>Not fleeing</td>\n",
       "    </tr>\n",
       "    <tr>\n",
       "      <th>1</th>\n",
       "      <td>Lewis Lee Lembke</td>\n",
       "      <td>2015-01-02</td>\n",
       "      <td>shot</td>\n",
       "      <td>gun</td>\n",
       "      <td>47.0</td>\n",
       "      <td>M</td>\n",
       "      <td>W</td>\n",
       "      <td>Aloha</td>\n",
       "      <td>OR</td>\n",
       "      <td>False</td>\n",
       "      <td>Not fleeing</td>\n",
       "    </tr>\n",
       "    <tr>\n",
       "      <th>2</th>\n",
       "      <td>John Paul Quintero</td>\n",
       "      <td>2015-01-03</td>\n",
       "      <td>shot and Tasered</td>\n",
       "      <td>unarmed</td>\n",
       "      <td>23.0</td>\n",
       "      <td>M</td>\n",
       "      <td>H</td>\n",
       "      <td>Wichita</td>\n",
       "      <td>KS</td>\n",
       "      <td>False</td>\n",
       "      <td>Not fleeing</td>\n",
       "    </tr>\n",
       "    <tr>\n",
       "      <th>3</th>\n",
       "      <td>Matthew Hoffman</td>\n",
       "      <td>2015-01-04</td>\n",
       "      <td>shot</td>\n",
       "      <td>toy weapon</td>\n",
       "      <td>32.0</td>\n",
       "      <td>M</td>\n",
       "      <td>W</td>\n",
       "      <td>San Francisco</td>\n",
       "      <td>CA</td>\n",
       "      <td>True</td>\n",
       "      <td>Not fleeing</td>\n",
       "    </tr>\n",
       "    <tr>\n",
       "      <th>4</th>\n",
       "      <td>Michael Rodriguez</td>\n",
       "      <td>2015-01-04</td>\n",
       "      <td>shot</td>\n",
       "      <td>nail gun</td>\n",
       "      <td>39.0</td>\n",
       "      <td>M</td>\n",
       "      <td>H</td>\n",
       "      <td>Evans</td>\n",
       "      <td>CO</td>\n",
       "      <td>False</td>\n",
       "      <td>Not fleeing</td>\n",
       "    </tr>\n",
       "  </tbody>\n",
       "</table>\n",
       "</div>"
      ],
      "text/plain": [
       "                 name       date   manner_of_death       armed   age gender  \\\n",
       "0          Tim Elliot 2015-01-02              shot         gun  53.0      M   \n",
       "1    Lewis Lee Lembke 2015-01-02              shot         gun  47.0      M   \n",
       "2  John Paul Quintero 2015-01-03  shot and Tasered     unarmed  23.0      M   \n",
       "3     Matthew Hoffman 2015-01-04              shot  toy weapon  32.0      M   \n",
       "4   Michael Rodriguez 2015-01-04              shot    nail gun  39.0      M   \n",
       "\n",
       "  race           city state  signs_of_mental_illness         flee  \n",
       "0    A        Shelton    WA                     True  Not fleeing  \n",
       "1    W          Aloha    OR                    False  Not fleeing  \n",
       "2    H        Wichita    KS                    False  Not fleeing  \n",
       "3    W  San Francisco    CA                     True  Not fleeing  \n",
       "4    H          Evans    CO                    False  Not fleeing  "
      ]
     },
     "execution_count": 18,
     "metadata": {},
     "output_type": "execute_result"
    }
   ],
   "source": [
    "df.head()"
   ]
  },
  {
   "cell_type": "markdown",
   "metadata": {},
   "source": [
    "Now check columns one by one to clean and unify them"
   ]
  },
  {
   "cell_type": "code",
   "execution_count": 19,
   "metadata": {},
   "outputs": [
    {
     "name": "stdout",
     "output_type": "stream",
     "text": [
      "<class 'pandas.core.frame.DataFrame'>\n",
      "Int64Index: 15026 entries, 0 to 12490\n",
      "Data columns (total 11 columns):\n",
      " #   Column                   Non-Null Count  Dtype         \n",
      "---  ------                   --------------  -----         \n",
      " 0   name                     15026 non-null  object        \n",
      " 1   date                     15026 non-null  datetime64[ns]\n",
      " 2   manner_of_death          15026 non-null  object        \n",
      " 3   armed                    9340 non-null   object        \n",
      " 4   age                      14716 non-null  float64       \n",
      " 5   gender                   15018 non-null  object        \n",
      " 6   race                     10866 non-null  object        \n",
      " 7   city                     15022 non-null  object        \n",
      " 8   state                    15026 non-null  object        \n",
      " 9   signs_of_mental_illness  15026 non-null  bool          \n",
      " 10  flee                     14961 non-null  object        \n",
      "dtypes: bool(1), datetime64[ns](1), float64(1), object(8)\n",
      "memory usage: 1.3+ MB\n"
     ]
    }
   ],
   "source": [
    "df.info()"
   ]
  },
  {
   "cell_type": "code",
   "execution_count": 20,
   "metadata": {},
   "outputs": [],
   "source": [
    "df.drop_duplicates(inplace=True)"
   ]
  },
  {
   "cell_type": "code",
   "execution_count": 21,
   "metadata": {},
   "outputs": [],
   "source": [
    "df.name=df.name.replace('Name withheld by police', 'unknown').replace('TK TK', 'unknown')\n",
    "df.manner_of_death=np.where(df.manner_of_death=='shot', 'Shot', df.manner_of_death)\n",
    "df.manner_of_death=np.where(df.manner_of_death=='shot and Tasered', 'Shot and Tasered', df.manner_of_death)"
   ]
  },
  {
   "cell_type": "code",
   "execution_count": 22,
   "metadata": {},
   "outputs": [],
   "source": [
    "df['armed'] = df['armed'].str.lower()\n",
    "df['city'] = df['city'].str.lower()\n",
    "df.armed=np.where(df.armed=='axe', 'ax', df.armed)\n",
    "df.armed=np.where(df.armed=='motorcycle', 'vehicle', df.armed)\n",
    "df.armed=df.armed.replace('undetermined', 'unknown')\n",
    "df.armed=df.armed.fillna('unknown')\n",
    "df.gender=np.where(df.gender=='Female','F',df.gender)\n",
    "df.gender=np.where(df.gender=='Male','M',df.gender)\n",
    "df.race=np.where(df.race=='A', 'Asian', df.race)\n",
    "df.race=np.where(df.race=='B', 'Black', df.race)\n",
    "df.race=np.where(df.race=='H', 'Hispanic', df.race)\n",
    "df.race=np.where(df.race=='O', 'Other', df.race)\n",
    "df.race=np.where(df.race=='N', 'Native', df.race)\n",
    "df.race=np.where(df.race=='W', 'White', df.race)\n",
    "df = df.drop(df[df['city'].isna()].index).reset_index(drop=True)\n",
    "dic={False:0, True:1, 'Not fleeing':0,'Car':1, 'Foot':1,'Other':'unknown'}\n",
    "\n",
    "df.signs_of_mental_illness=df.signs_of_mental_illness.map(dic)\n",
    "df.flee=df.flee.map(dic)\n",
    "df.drop_duplicates(inplace=True)\n",
    "df['test_drop']=\"\"\n",
    "df=df.sort_values(by='name').reset_index(drop=True)"
   ]
  },
  {
   "cell_type": "code",
   "execution_count": 23,
   "metadata": {},
   "outputs": [],
   "source": [
    "#function to complete rows if there are duplicated partially and they complete themself\n",
    "for i in range(df.shape[0]-1):\n",
    "    if (df.iloc[i,0]==df.iloc[i+1,0]) & (df.iloc[i,1]==df.iloc[i+1,1]) & (df.iloc[i,9]==df.iloc[i+1,9]):\n",
    "        for c in range(df.shape[1]):\n",
    "            if (df.iloc[i,c]=='unknown') | (pd.isna(df.iloc[i, c])):\n",
    "                df.iloc[i,c]=df.iloc[i+1,c]\n",
    "        df.iloc[i+1, 11]=i"
   ]
  },
  {
   "cell_type": "code",
   "execution_count": 24,
   "metadata": {},
   "outputs": [],
   "source": [
    "for i in range(df.shape[0]-1):\n",
    "    if (df.iloc[i,0]==df.iloc[i+1,0]) & (df.iloc[i,1]==df.iloc[i+1,1]) & (df.iloc[i,9]==df.iloc[i+1,9]):\n",
    "        for c in range(df.shape[1]):\n",
    "            if (df.iloc[i,c]=='unknown') | (pd.isna(df.iloc[i, c])):\n",
    "                df.iloc[i,c]=df.iloc[i+1,c]\n",
    "        df.iloc[i+1, 11]='drop'"
   ]
  },
  {
   "cell_type": "code",
   "execution_count": 25,
   "metadata": {},
   "outputs": [],
   "source": [
    "df = df.drop(df[df['test_drop']=='drop'].index).reset_index(drop=True)\n",
    "df.drop('test_drop', axis=1, inplace=True)"
   ]
  },
  {
   "cell_type": "code",
   "execution_count": 26,
   "metadata": {},
   "outputs": [],
   "source": [
    "#check how many values are missing for every rows\n",
    "df['rdrop']=\"\"\n",
    "for i in range(df.shape[0]):\n",
    "    k=0\n",
    "    for c in range(df.shape[1]-1):\n",
    "        if (df.iloc[i,c]=='unknown')|(pd.isna(df.iloc[i, c]))|(df.iloc[i,c]=='Other'):\n",
    "            k+=1\n",
    "    df.iloc[i,11]=k\n",
    "    \n",
    "#drop 192 rows with 3 or more missing values \n",
    "df = df.drop(df[df.rdrop>2].index).reset_index(drop=True)\n",
    "df.drop('rdrop', axis=1, inplace=True)"
   ]
  },
  {
   "cell_type": "markdown",
   "metadata": {},
   "source": [
    "# Additional data on poverty rate, high school graduation rate, median household income, and racial demographics"
   ]
  },
  {
   "cell_type": "markdown",
   "metadata": {},
   "source": [
    "The goal here is to add data about the city. The final goal is to create a dataframe which gives per city the number of people killed by the police, and informations about the size of the population, the poverty, the wealth, the education, and the share between etnic groups"
   ]
  },
  {
   "cell_type": "code",
   "execution_count": 27,
   "metadata": {},
   "outputs": [],
   "source": [
    "df_medianincome=pd.read_csv('data/MedianHouseholdIncome2015.csv', encoding = \"ISO-8859-1\")\n",
    "df_poverty=pd.read_csv('data/PercentagePeopleBelowPovertyLevel.csv', encoding = \"ISO-8859-1\")\n",
    "df_eduction=pd.read_csv('data/PercentOver25CompletedHighSchool.csv', encoding = \"ISO-8859-1\")\n",
    "df_ShareRaceByCity=pd.read_csv('data/ShareRaceByCity.csv')\n",
    "df_ShareRaceByCity.columns=['Geographic Area', 'City', 'share_white', 'share_black',\n",
    "       'share_native_american', 'share_asian', 'share_hispanic']\n",
    "df_city = pd.merge(df_medianincome, df_poverty, on=['City','Geographic Area'])\n",
    "df_city = pd.merge(df_city, df_eduction, on=['City','Geographic Area'])\n",
    "df_city = pd.merge(df_city, df_ShareRaceByCity, on=['City','Geographic Area'])\n",
    "df_city['City'] = df_city['City'].str.lower()\n",
    "df_city.columns=['state', 'city', 'Median Income', 'poverty_rate',\n",
    "       'percent_completed_hs', 'share_white', 'share_black',\n",
    "       'share_native_american', 'share_asian', 'share_hispanic']\n",
    "df_city['city']=df_city['city'].str.replace(' city','')\n",
    "df_city['city']=df_city['city'].str.replace(' \\(balance\\)','')\n",
    "df_city['city']=df_city['city'].str.replace('louisville/jefferson county metro government','louisville')\n",
    "df_city['city']=df_city['city'].str.replace('nashville-davidson metropolitan government','nashville')\n",
    "df_city['city']=df_city['city'].str.strip(' ')\n",
    "df_city['city']=df_city['city'].str.replace('urban honolulu cdp','honolulu')\n",
    "df_city['city']=df_city['city'].str.replace('lexington-fayette urban county','lexington')\n"
   ]
  },
  {
   "cell_type": "code",
   "execution_count": 28,
   "metadata": {
    "scrolled": true
   },
   "outputs": [],
   "source": [
    "#retrieve data about population size in the cities\n",
    "df_pop=pd.read_csv('data/pop_cities2019_all.csv')\n",
    "df_pop = df_pop.drop(df_pop[df_pop.NAME==df_pop.STNAME].index).reset_index(drop=True)\n",
    "df_pop=df_pop[['NAME','STNAME','POPESTIMATE2017']]\n",
    "df_pop.columns=['city','state_name','population']\n",
    "df_pop['city']=df_pop['city'].map(lambda x : x.lower())\n",
    "df_pop['city']=df_pop['city'].str.replace(' city','')\n",
    "df_pop.drop_duplicates(inplace=True)\n",
    "df_pop = df_pop.drop(df_pop[(df_pop.city==('chicago'))&(df_pop.population==0)].index).reset_index(drop=True)\n",
    "df_pop['city']=df_pop['city'].str.replace('louisville/jefferson county metro government','louisville')\n",
    "df_pop['city']=df_pop['city'].str.replace('nashville-davidson metropolitan government \\(balance\\)','nashville')"
   ]
  },
  {
   "cell_type": "code",
   "execution_count": 29,
   "metadata": {},
   "outputs": [],
   "source": [
    "#this file gives state code / state name / pop. code in every df can be replaced by the name of the state, more readable\n",
    "df_state=pd.read_csv('data/awram-us-police-involved-fatalities2000_2015/censusStatePopulations2014.csv')\n",
    "df_state.columns=['state', 'state_name', 'pop_total_state']\n",
    "df_city=pd.merge(df_city, df_state, on='state', how='left')\n",
    "df_city=pd.merge(df_city, df_pop, how='left', on=['city','state_name'])"
   ]
  },
  {
   "cell_type": "code",
   "execution_count": 30,
   "metadata": {},
   "outputs": [],
   "source": [
    "df=df.merge(df_state, on='state', how='left')\n",
    "#This dataframe is exported as excel to be sent to Tableau for visualization \n",
    "df.to_excel('policekillingus_dfclean.xlsx', index=False)\n",
    "\n",
    "#prepare now a new dataframe for clusterisation & modelling/regression\n",
    "\n",
    "df_model_kill=pd.get_dummies(df, columns=['gender', 'race'])\n",
    "df_model_kill.drop(['manner_of_death','armed'], axis=1, inplace=True)\n",
    "df_model_kill_pivot=df_model_kill.pivot_table(index=['city','state'] , values=['gender_F','gender_M'], \n",
    "                                   aggfunc='sum')\n",
    "df_temp=df_model_kill.pivot_table(index=['city','state'] , values=['name'], aggfunc='count')\n",
    "df_model_kill_pivot=pd.merge(df_model_kill_pivot, df_temp, on= ['city','state'])"
   ]
  },
  {
   "cell_type": "code",
   "execution_count": 31,
   "metadata": {},
   "outputs": [],
   "source": [
    "df_kill4= df[(df['date'] > '2015-01-01') & (df['date'] <= '2017-12-30')]\n",
    "df_kill3= df[(df['date'] > '2012-01-01') & (df['date'] <= '2014-12-31')]\n",
    "df_kill2= df[(df['date'] > '2009-01-01') & (df['date'] <= '2011-12-31')]\n",
    "df_kill1= df[(df['date'] > '2006-01-01') & (df['date'] <= '2008-12-31')]\n",
    "df_kill0= df[(df['date'] > '2003-01-01') & (df['date'] <= '2005-12-31')]"
   ]
  },
  {
   "cell_type": "code",
   "execution_count": 32,
   "metadata": {},
   "outputs": [],
   "source": [
    "df_kill4=pd.DataFrame(df_kill4.groupby(['state', 'city']).size())\n",
    "df_kill4.columns=['nb_period4']\n",
    "df_kill3=pd.DataFrame(df_kill3.groupby(['state', 'city']).size())\n",
    "df_kill3.columns=['nb_period3']\n",
    "df_kill2=pd.DataFrame(df_kill2.groupby(['state', 'city']).size())\n",
    "df_kill2.columns=['nb_period2']\n",
    "df_kill1=pd.DataFrame(df_kill1.groupby(['state', 'city']).size())\n",
    "df_kill1.columns=['nb_period1']\n",
    "df_kill0=pd.DataFrame(df_kill0.groupby(['state', 'city']).size())\n",
    "df_kill0.columns=['nb_period0']\n",
    "df_temp=pd.DataFrame(df.groupby(['state', 'city']).size())\n",
    "df_temp.columns=['name']"
   ]
  },
  {
   "cell_type": "code",
   "execution_count": 33,
   "metadata": {},
   "outputs": [],
   "source": [
    "lst=[df_kill0,df_kill1,df_kill2,df_kill3,df_kill4,df_temp]\n",
    "for i in lst:\n",
    "    df_city=df_city.merge(i, on=['city', 'state'], how='left')"
   ]
  },
  {
   "cell_type": "code",
   "execution_count": 34,
   "metadata": {},
   "outputs": [],
   "source": [
    "#drop the rows with missing values\n",
    "df_city = df_city.drop(df_city[(df_city.population.isna())&(df_city.name.isna())].index).reset_index(drop=True)\n",
    "df_city = df_city.drop(df_city[df_city['Median Income'].isna()].index).reset_index(drop=True)\n",
    "df_city=df_city.fillna(0)"
   ]
  },
  {
   "cell_type": "markdown",
   "metadata": {},
   "source": [
    "# Data Visualization"
   ]
  },
  {
   "cell_type": "code",
   "execution_count": 35,
   "metadata": {},
   "outputs": [],
   "source": [
    "df_viz_orig= df[(df['date'] > '2015-01-01') & (df['date'] <= '2017-12-30')]"
   ]
  },
  {
   "cell_type": "code",
   "execution_count": 36,
   "metadata": {},
   "outputs": [
    {
     "data": {
      "image/png": "[encoded data removed]",
      "text/plain": [
       "<Figure size 432x288 with 1 Axes>"
      ]
     },
     "metadata": {
      "needs_background": "light"
     },
     "output_type": "display_data"
    }
   ],
   "source": [
    "df_vizrace=pd.DataFrame(df_viz_orig.race.value_counts(normalize=True))\n",
    "x=np.arange(len(df_vizrace.index))\n",
    "clist = [(0, \"red\"), (0.20, \"orange\"), (0.4, \"yellow\"), (0.5, \"green\"), (0.75, \"blue\"), (1, \"cyan\")]\n",
    "rvb = mcolors.LinearSegmentedColormap.from_list(\"\", clist)\n",
    "plt.bar(x, df_vizrace.race, color=sns.color_palette('ocean_r', len(x)), edgecolor='black')\n",
    "plt.xticks(x, df_vizrace.index, rotation=35,horizontalalignment='right', fontsize=12)\n",
    "plt.title('Number of fatal shooting by ethnic group', fontsize=13)\n",
    "for i in range(len(df_vizrace.race)):\n",
    "    plt.text(x = i-0.2, y = df_vizrace.race[i]+0.01, s = (str(round(df_vizrace.race[i]*100,2))+'%'), size=9)\n",
    "plt.subplots_adjust(bottom= 0.2, top = 1.4)\n",
    "plt.show()"
   ]
  },
  {
   "cell_type": "code",
   "execution_count": 37,
   "metadata": {},
   "outputs": [
    {
     "data": {
      "image/png": "[encoded data removed]",
      "text/plain": [
       "<Figure size 432x288 with 1 Axes>"
      ]
     },
     "metadata": {
      "needs_background": "light"
     },
     "output_type": "display_data"
    }
   ],
   "source": [
    "x=np.arange(6)\n",
    "\n",
    "data_pop=[63.4,13.4,15.3,5.9,1.5,2.7]\n",
    "data_name=['White', 'Black', 'Hispanic', 'Asian', 'Native', 'Other']\n",
    "\n",
    "plt.bar(x, data_pop, color=sns.color_palette('ocean_r', len(x)), edgecolor='black')\n",
    "plt.xticks(x, data_name, rotation=35,horizontalalignment='right', fontsize=12)\n",
    "plt.title('Part of each ethnic group in USA population', fontsize=13)\n",
    "for i in range(len(data_pop)):\n",
    "    plt.text(x = i-0.2, y = data_pop[i]+0.15, s = (str(data_pop[i])+'%'), size=9)\n",
    "plt.subplots_adjust(bottom= 0.2, top = 1.4)\n",
    "plt.show()"
   ]
  },
  {
   "cell_type": "code",
   "execution_count": 38,
   "metadata": {},
   "outputs": [
    {
     "data": {
      "image/png": "[encoded data removed]",
      "text/plain": [
       "<Figure size 432x288 with 1 Axes>"
      ]
     },
     "metadata": {
      "needs_background": "light"
     },
     "output_type": "display_data"
    }
   ],
   "source": [
    "df_vizgender=pd.DataFrame(df_viz_orig.gender.value_counts(normalize=True))\n",
    "x=np.arange(len(df_vizgender.index))\n",
    "\n",
    "plt.bar(x, df_vizgender.gender, color=sns.color_palette(\"coolwarm\", len(x)), edgecolor='black', width=0.4)\n",
    "plt.xticks(x, df_vizgender.index, rotation=35,horizontalalignment='right', fontsize=12)\n",
    "plt.title('Gender', fontsize=13)\n",
    "for i in range(len(df_vizgender.gender)):\n",
    "    plt.text(x = i-0.05, y = df_vizgender.gender[i]+0.01, s = round(df_vizgender.gender[i]*100,2), size = 9)\n",
    "plt.subplots_adjust(bottom= 0.2, top = 1.2)\n",
    "plt.show()"
   ]
  },
  {
   "cell_type": "code",
   "execution_count": 39,
   "metadata": {},
   "outputs": [
    {
     "data": {
      "image/png": "[encoded data removed]",
      "text/plain": [
       "<Figure size 432x288 with 1 Axes>"
      ]
     },
     "metadata": {
      "needs_background": "light"
     },
     "output_type": "display_data"
    }
   ],
   "source": [
    "df_vizflee=pd.DataFrame(df_viz_orig.flee.value_counts(normalize=True))\n",
    "df_vizflee=df_vizflee.drop('unknown')\n",
    "df_vizflee.index=['not fleeing','fleeing']\n",
    "x=np.arange(len(df_vizflee.index))\n",
    "plt.bar(x, df_vizflee.flee, color=['blue', 'red'],edgecolor='black')\n",
    "plt.xticks(x, df_vizflee.index, rotation=35,horizontalalignment='right', fontsize=12)\n",
    "plt.title('flee', fontsize=13)\n",
    "for i in range(len(df_vizflee.flee)):\n",
    "    plt.text(x = i-0.2, y = df_vizflee.flee[i]+0.01, s = round(df_vizflee.flee[i]*100,2))\n",
    "plt.subplots_adjust(bottom= 0.2, top = 1.2)\n",
    "plt.show()"
   ]
  },
  {
   "cell_type": "code",
   "execution_count": 90,
   "metadata": {},
   "outputs": [
    {
     "data": {
      "image/png": "[encoded data removed]",
      "text/plain": [
       "<Figure size 432x288 with 1 Axes>"
      ]
     },
     "metadata": {
      "needs_background": "light"
     },
     "output_type": "display_data"
    }
   ],
   "source": [
    "df_viz_orig.signs_of_mental_illness.value_counts()\n",
    "\n",
    "df_vizmen=pd.DataFrame(df_viz_orig.signs_of_mental_illness.value_counts(normalize=True))\n",
    "#df_vizmen=df_vizmen.signs_of_mental_illness.drop('unknown')\n",
    "df_vizmen.index=['not signs_of_mental_illnessing','signs_of_mental_illnessing']\n",
    "x=np.arange(len(df_vizmen.signs_of_mental_illness.index))\n",
    "plt.bar(x, df_vizmen.signs_of_mental_illness, color=['blue', 'red'],edgecolor='black')\n",
    "plt.xticks(x, df_vizmen.signs_of_mental_illness.index, rotation=35,horizontalalignment='right', fontsize=12)\n",
    "plt.title('signs_of_mental_illness', fontsize=13)\n",
    "for i in range(len(df_vizmen.signs_of_mental_illness)):\n",
    "    plt.text(x = i-0.2, y = df_vizmen.signs_of_mental_illness[i]+0.01, s = round(df_vizmen.signs_of_mental_illness[i]*100,2))\n",
    "plt.subplots_adjust(bottom= 0.2, top = 1.2)\n",
    "plt.show()"
   ]
  },
  {
   "cell_type": "code",
   "execution_count": 92,
   "metadata": {},
   "outputs": [
    {
     "data": {
      "text/html": [
       "<div>\n",
       "<style scoped>\n",
       "    .dataframe tbody tr th:only-of-type {\n",
       "        vertical-align: middle;\n",
       "    }\n",
       "\n",
       "    .dataframe tbody tr th {\n",
       "        vertical-align: top;\n",
       "    }\n",
       "\n",
       "    .dataframe thead th {\n",
       "        text-align: right;\n",
       "    }\n",
       "</style>\n",
       "<table border=\"1\" class=\"dataframe\">\n",
       "  <thead>\n",
       "    <tr style=\"text-align: right;\">\n",
       "      <th></th>\n",
       "      <th>name</th>\n",
       "      <th>date</th>\n",
       "      <th>manner_of_death</th>\n",
       "      <th>armed</th>\n",
       "      <th>age</th>\n",
       "      <th>gender</th>\n",
       "      <th>race</th>\n",
       "      <th>city</th>\n",
       "      <th>state</th>\n",
       "      <th>signs_of_mental_illness</th>\n",
       "      <th>flee</th>\n",
       "      <th>state_name</th>\n",
       "      <th>pop_total_state</th>\n",
       "    </tr>\n",
       "  </thead>\n",
       "  <tbody>\n",
       "    <tr>\n",
       "      <th>0</th>\n",
       "      <td>Austin Wilburly  Reid</td>\n",
       "      <td>2015-09-10</td>\n",
       "      <td>Shot</td>\n",
       "      <td>gun</td>\n",
       "      <td>32.0</td>\n",
       "      <td>M</td>\n",
       "      <td>White</td>\n",
       "      <td>lodi</td>\n",
       "      <td>CA</td>\n",
       "      <td>0</td>\n",
       "      <td>1</td>\n",
       "      <td>California</td>\n",
       "      <td>38,802,500</td>\n",
       "    </tr>\n",
       "    <tr>\n",
       "      <th>1</th>\n",
       "      <td>\"Dracy \"\"Clint\"\" Pendleton\"</td>\n",
       "      <td>2016-05-15</td>\n",
       "      <td>Shot</td>\n",
       "      <td>gun</td>\n",
       "      <td>35.0</td>\n",
       "      <td>M</td>\n",
       "      <td>White</td>\n",
       "      <td>shawnee national forest</td>\n",
       "      <td>IL</td>\n",
       "      <td>0</td>\n",
       "      <td>1</td>\n",
       "      <td>Illinois</td>\n",
       "      <td>12,880,580</td>\n",
       "    </tr>\n",
       "    <tr>\n",
       "      <th>2</th>\n",
       "      <td>\"Eugene \"\"Geno\"\" Francis Smith\"</td>\n",
       "      <td>2016-05-26</td>\n",
       "      <td>Shot</td>\n",
       "      <td>gun</td>\n",
       "      <td>29.0</td>\n",
       "      <td>M</td>\n",
       "      <td>White</td>\n",
       "      <td>saint paul</td>\n",
       "      <td>MN</td>\n",
       "      <td>0</td>\n",
       "      <td>0</td>\n",
       "      <td>Minnesota</td>\n",
       "      <td>5,457,173</td>\n",
       "    </tr>\n",
       "    <tr>\n",
       "      <th>4</th>\n",
       "      <td>\"Hubert Thomas Burns, Jr.\"</td>\n",
       "      <td>2016-06-03</td>\n",
       "      <td>Shot</td>\n",
       "      <td>knife</td>\n",
       "      <td>34.0</td>\n",
       "      <td>M</td>\n",
       "      <td>Native</td>\n",
       "      <td>parker</td>\n",
       "      <td>AZ</td>\n",
       "      <td>0</td>\n",
       "      <td>0</td>\n",
       "      <td>Arizona</td>\n",
       "      <td>6,731,484</td>\n",
       "    </tr>\n",
       "    <tr>\n",
       "      <th>5</th>\n",
       "      <td>\"John Charles \"\"JC\"\" Graham\"</td>\n",
       "      <td>2016-03-07</td>\n",
       "      <td>Shot</td>\n",
       "      <td>gun</td>\n",
       "      <td>42.0</td>\n",
       "      <td>M</td>\n",
       "      <td>White</td>\n",
       "      <td>billings</td>\n",
       "      <td>MT</td>\n",
       "      <td>0</td>\n",
       "      <td>0</td>\n",
       "      <td>Montana</td>\n",
       "      <td>1,023,579</td>\n",
       "    </tr>\n",
       "    <tr>\n",
       "      <th>...</th>\n",
       "      <td>...</td>\n",
       "      <td>...</td>\n",
       "      <td>...</td>\n",
       "      <td>...</td>\n",
       "      <td>...</td>\n",
       "      <td>...</td>\n",
       "      <td>...</td>\n",
       "      <td>...</td>\n",
       "      <td>...</td>\n",
       "      <td>...</td>\n",
       "      <td>...</td>\n",
       "      <td>...</td>\n",
       "      <td>...</td>\n",
       "    </tr>\n",
       "    <tr>\n",
       "      <th>12334</th>\n",
       "      <td>unknown</td>\n",
       "      <td>2017-06-17</td>\n",
       "      <td>Shot</td>\n",
       "      <td>vehicle</td>\n",
       "      <td>28.0</td>\n",
       "      <td>F</td>\n",
       "      <td>NaN</td>\n",
       "      <td>montebello</td>\n",
       "      <td>CA</td>\n",
       "      <td>0</td>\n",
       "      <td>0</td>\n",
       "      <td>California</td>\n",
       "      <td>38,802,500</td>\n",
       "    </tr>\n",
       "    <tr>\n",
       "      <th>12335</th>\n",
       "      <td>unknown</td>\n",
       "      <td>2017-07-26</td>\n",
       "      <td>Shot</td>\n",
       "      <td>gun</td>\n",
       "      <td>35.0</td>\n",
       "      <td>M</td>\n",
       "      <td>NaN</td>\n",
       "      <td>san antonio</td>\n",
       "      <td>TX</td>\n",
       "      <td>0</td>\n",
       "      <td>0</td>\n",
       "      <td>Texas</td>\n",
       "      <td>26,956,958</td>\n",
       "    </tr>\n",
       "    <tr>\n",
       "      <th>12336</th>\n",
       "      <td>unknown</td>\n",
       "      <td>2017-07-19</td>\n",
       "      <td>Shot</td>\n",
       "      <td>gun</td>\n",
       "      <td>24.0</td>\n",
       "      <td>M</td>\n",
       "      <td>NaN</td>\n",
       "      <td>fair oaks</td>\n",
       "      <td>CA</td>\n",
       "      <td>0</td>\n",
       "      <td>0</td>\n",
       "      <td>California</td>\n",
       "      <td>38,802,500</td>\n",
       "    </tr>\n",
       "    <tr>\n",
       "      <th>12337</th>\n",
       "      <td>unknown</td>\n",
       "      <td>2017-07-15</td>\n",
       "      <td>Shot</td>\n",
       "      <td>gun</td>\n",
       "      <td>23.0</td>\n",
       "      <td>M</td>\n",
       "      <td>NaN</td>\n",
       "      <td>moreno valley</td>\n",
       "      <td>CA</td>\n",
       "      <td>1</td>\n",
       "      <td>0</td>\n",
       "      <td>California</td>\n",
       "      <td>38,802,500</td>\n",
       "    </tr>\n",
       "    <tr>\n",
       "      <th>12338</th>\n",
       "      <td>unknown</td>\n",
       "      <td>2017-07-05</td>\n",
       "      <td>Shot</td>\n",
       "      <td>unknown</td>\n",
       "      <td>24.0</td>\n",
       "      <td>M</td>\n",
       "      <td>Hispanic</td>\n",
       "      <td>vista</td>\n",
       "      <td>CA</td>\n",
       "      <td>0</td>\n",
       "      <td>1</td>\n",
       "      <td>California</td>\n",
       "      <td>38,802,500</td>\n",
       "    </tr>\n",
       "  </tbody>\n",
       "</table>\n",
       "<p>3417 rows × 13 columns</p>\n",
       "</div>"
      ],
      "text/plain": [
       "                                  name       date manner_of_death    armed  \\\n",
       "0                Austin Wilburly  Reid 2015-09-10            Shot      gun   \n",
       "1          \"Dracy \"\"Clint\"\" Pendleton\" 2016-05-15            Shot      gun   \n",
       "2      \"Eugene \"\"Geno\"\" Francis Smith\" 2016-05-26            Shot      gun   \n",
       "4           \"Hubert Thomas Burns, Jr.\" 2016-06-03            Shot    knife   \n",
       "5         \"John Charles \"\"JC\"\" Graham\" 2016-03-07            Shot      gun   \n",
       "...                                ...        ...             ...      ...   \n",
       "12334                          unknown 2017-06-17            Shot  vehicle   \n",
       "12335                          unknown 2017-07-26            Shot      gun   \n",
       "12336                          unknown 2017-07-19            Shot      gun   \n",
       "12337                          unknown 2017-07-15            Shot      gun   \n",
       "12338                          unknown 2017-07-05            Shot  unknown   \n",
       "\n",
       "        age gender      race                     city state  \\\n",
       "0      32.0      M     White                     lodi    CA   \n",
       "1      35.0      M     White  shawnee national forest    IL   \n",
       "2      29.0      M     White               saint paul    MN   \n",
       "4      34.0      M    Native                   parker    AZ   \n",
       "5      42.0      M     White                 billings    MT   \n",
       "...     ...    ...       ...                      ...   ...   \n",
       "12334  28.0      F       NaN               montebello    CA   \n",
       "12335  35.0      M       NaN              san antonio    TX   \n",
       "12336  24.0      M       NaN                fair oaks    CA   \n",
       "12337  23.0      M       NaN            moreno valley    CA   \n",
       "12338  24.0      M  Hispanic                    vista    CA   \n",
       "\n",
       "      signs_of_mental_illness flee  state_name pop_total_state  \n",
       "0                           0    1  California     38,802,500   \n",
       "1                           0    1    Illinois     12,880,580   \n",
       "2                           0    0   Minnesota      5,457,173   \n",
       "4                           0    0     Arizona      6,731,484   \n",
       "5                           0    0     Montana      1,023,579   \n",
       "...                       ...  ...         ...             ...  \n",
       "12334                       0    0  California     38,802,500   \n",
       "12335                       0    0       Texas     26,956,958   \n",
       "12336                       0    0  California     38,802,500   \n",
       "12337                       1    0  California     38,802,500   \n",
       "12338                       0    1  California     38,802,500   \n",
       "\n",
       "[3417 rows x 13 columns]"
      ]
     },
     "execution_count": 92,
     "metadata": {},
     "output_type": "execute_result"
    }
   ],
   "source": [
    "df_viz_orig"
   ]
  },
  {
   "cell_type": "code",
   "execution_count": 40,
   "metadata": {},
   "outputs": [],
   "source": [
    "df_viz_cityo=pd.DataFrame(df_viz_orig.groupby(['city']).size())\n",
    "df_viz_cityo.columns=['number']\n",
    "df_viz_cityo=df_viz_cityo.sort_values(by='number', ascending=False)\n",
    "df_viz_city=df_viz_cityo.head(30)"
   ]
  },
  {
   "cell_type": "code",
   "execution_count": 41,
   "metadata": {},
   "outputs": [
    {
     "data": {
      "image/png": "[encoded data removed]",
      "text/plain": [
       "<Figure size 2160x720 with 1 Axes>"
      ]
     },
     "metadata": {
      "needs_background": "light"
     },
     "output_type": "display_data"
    }
   ],
   "source": [
    "import matplotlib.colors as mcolors\n",
    "x=np.arange(len(df_viz_city.index))\n",
    "clist = [(0, \"red\"), (0.25, \"red\"), (0.45, \"white\"), (0.5, \"white\"), \n",
    "         (0.55, \"white\"), (0.75, \"blue\"), (1, \"blue\")]\n",
    "rvb = mcolors.LinearSegmentedColormap.from_list(\"\", clist)\n",
    "plt.figure(figsize=(30,10))\n",
    "plt.bar(x, df_viz_city.number, color=rvb(x/30), edgecolor='black')\n",
    "plt.xticks(x, df_viz_city.index, rotation=35,horizontalalignment='right', fontsize=15)\n",
    "plt.title('Number of fatal shooting by a police officer for the 30 most murderous cities', fontsize=13)\n",
    "for i in range(len(df_viz_city.number)):\n",
    "    plt.text(x = i-0.2, y = df_viz_city.number[i]+0.01, s = df_viz_city.number[i])\n",
    "\n",
    "plt.show()"
   ]
  },
  {
   "cell_type": "code",
   "execution_count": 42,
   "metadata": {},
   "outputs": [
    {
     "data": {
      "image/png": "[encoded data removed]",
      "text/plain": [
       "<Figure size 2160x720 with 1 Axes>"
      ]
     },
     "metadata": {
      "needs_background": "light"
     },
     "output_type": "display_data"
    }
   ],
   "source": [
    "x=np.arange(len(df_viz_city.index))\n",
    "plt.figure(figsize=(30,10))\n",
    "plt.bar(x, df_viz_city.number, color=sns.color_palette('rocket', len(x)), edgecolor='black')\n",
    "plt.xticks(x, df_viz_city.index, rotation=35,horizontalalignment='right', fontsize=15)\n",
    "plt.title('Number of fatal shootings by a police officer for the 30 most murderous cities', fontsize=18)\n",
    "for i in range(len(df_viz_city.number)):\n",
    "    plt.text(x = i-0.2, y = df_viz_city.number[i]+0.1, s = df_viz_city.number[i], fontsize=14)\n",
    "\n",
    "plt.show()"
   ]
  },
  {
   "cell_type": "code",
   "execution_count": 84,
   "metadata": {},
   "outputs": [
    {
     "data": {
      "image/png": "[encoded data removed]",
      "text/plain": [
       "<Figure size 720x720 with 1 Axes>"
      ]
     },
     "metadata": {
      "needs_background": "light"
     },
     "output_type": "display_data"
    }
   ],
   "source": [
    "# Start with one review:\n",
    "usa = \" \".join(city for city in df.city)\n",
    "mask = np.array(Image.open(\"C:/Users/auror/Final_Project/doc/us.PNG\"))\n",
    "wordcloud_usa = WordCloud(background_color=\"white\", mode=\"RGBA\", max_words=1000, mask=mask).generate(usa)\n",
    "image_colors = ImageColorGenerator(mask)\n",
    "# create coloring from image\n",
    "plt.figure(figsize=[10,10])\n",
    "plt.imshow(wordcloud_usa.recolor(color_func=image_colors), interpolation=\"bilinear\")\n",
    "plt.axis(\"off\")\n",
    "# store to file\n",
    "plt.savefig(\"doc/us.png\", format=\"png\")\n",
    "plt.show()"
   ]
  },
  {
   "cell_type": "code",
   "execution_count": 44,
   "metadata": {},
   "outputs": [],
   "source": [
    "df_city.columns=['state', 'city', 'Median Income', 'poverty_rate',\n",
    "       'percent_completed_hs', 'share_white', 'share_black',\n",
    "       'share_native_american', 'share_asian', 'share_hispanic', 'state_name',\n",
    "       'pop_total_state', 'population', 'nb_period0', 'nb_period1',\n",
    "       'nb_period2', 'nb_period3', 'nb_period4', 'total_FatalShooting']"
   ]
  },
  {
   "cell_type": "code",
   "execution_count": 45,
   "metadata": {},
   "outputs": [],
   "source": [
    "#Data to send to tableau to viz\n",
    "df_map=df_city.copy()\n",
    "df_map[\"pop_total_state\"]=df_map[\"pop_total_state\"].str.replace(',','')\n",
    "df_map[\"pop_total_state\"] = pd.to_numeric(df_map[\"pop_total_state\"])\n",
    "#transform columns into numeric+ fillna 'Median Income' by the median of the state\n",
    "df_map = df_map.drop(df_map[df_map['Median Income']=='-'].index).reset_index(drop=True)\n",
    "df_map[df_map['Median Income']=='(X)']\n",
    "df_map['Median Income']=df_map['Median Income'].str.replace('\\(X\\)','').str.replace('+','').str.replace(',','').str.replace('-','')\n",
    "df_map[[\"share_hispanic\",'share_asian','share_native_american','share_black','share_white','percent_completed_hs','poverty_rate', 'Median Income']] = df_map[[\"share_hispanic\",'share_asian','share_native_american','share_black','share_white','percent_completed_hs','poverty_rate', 'Median Income']].apply(pd.to_numeric)\n",
    "df_map['Median Income']= df_map[['state','Median Income']].groupby(\"state\").transform(lambda x: x.fillna(x.median()))\n",
    "#df_map.drop(['state','city', 'state_total_FatalShooting'], axis=1, inplace=True)\n",
    "\n",
    "df_map1=df_map.pivot_table(index=['state'] , values=['Median Income', 'poverty_rate',\n",
    "       'percent_completed_hs', 'share_white', 'share_black',\n",
    "       'share_native_american', 'share_asian', 'share_hispanic', 'pop_total_state'], aggfunc='mean')\n",
    "df_map2=df_map.pivot_table(index=['state'] , values=['total_FatalShooting'], aggfunc='sum')\n",
    "\n",
    "df_map=pd.merge(df_map1,df_map2, on='state')\n",
    "df_map=round(df_map,2)\n",
    "df_map['Number of fatal shooting per 10000']=round(df_map['total_FatalShooting']/df_map['pop_total_state']*10000,2)\n",
    "df_map.to_excel('df_map.xlsx', index=True)"
   ]
  },
  {
   "cell_type": "code",
   "execution_count": 46,
   "metadata": {},
   "outputs": [],
   "source": [
    "#check on the correlation\n",
    "\n",
    "def corr_f(df, figsize=(8,6),i=0.7):\n",
    "    plt.subplots(figsize=figsize)\n",
    "    ax = sns.heatmap(\n",
    "        df.corr(), \n",
    "        cmap='BrBG', annot=False)\n",
    "\n",
    "    ax.set_title('Correlation Heatmap', fontdict={'fontsize':16}, pad=12);\n",
    "\n",
    "    ax.set_xticklabels(\n",
    "        ax.get_xticklabels(),\n",
    "        rotation=35,\n",
    "        horizontalalignment='right', fontsize=10);\n",
    "\n",
    "    ax.set_yticklabels(\n",
    "        ax.get_xticklabels(), fontsize=10);\n",
    "\n",
    "    corr_matrix = df.corr()\n",
    "    upper = corr_matrix.where(np.triu(np.ones(corr_matrix.shape), k=1).astype(np.bool))\n",
    "    col_hightly_correlated=[]\n",
    "\n",
    "    for column in range(len(upper.columns)):\n",
    "        for ind in range(len(upper.index)):\n",
    "            if (upper.iloc[ind,column] > i) | (upper.iloc[ind,column] < -i):\n",
    "                col_hightly_correlated.append([upper.index[ind], upper.index[column],round(upper.iloc[ind,column],2)])\n",
    "\n",
    "    return col_hightly_correlated\n"
   ]
  },
  {
   "cell_type": "markdown",
   "metadata": {},
   "source": [
    "First the dataframe should be modified"
   ]
  },
  {
   "cell_type": "code",
   "execution_count": 47,
   "metadata": {},
   "outputs": [],
   "source": [
    "dfm=df_city.copy()\n",
    "dfm.drop('total_FatalShooting', axis=1, inplace=True)\n",
    "dfm.columns=['state', 'city', 'Median Income', 'poverty_rate',\n",
    "       'percent_completed_hs', 'share_white', 'share_black',\n",
    "       'share_native_american', 'share_asian', 'share_hispanic', 'state_name',\n",
    "       'pop_total_state', 'population', 'nb_period0', 'nb_period1',\n",
    "       'nb_period2', 'nb_period3', 'y']\n",
    "dfm[\"pop_total_state\"]=dfm[\"pop_total_state\"].str.replace(',','')\n",
    "dfm[\"pop_total_state\"] = pd.to_numeric(dfm[\"pop_total_state\"])\n",
    "dummies=[]\n",
    "dummies.append('state_name')\n",
    "#transform columns into numeric+ fillna 'Median Income' by the median of the state\n",
    "dfm = dfm.drop(dfm[dfm['Median Income']=='-'].index).reset_index(drop=True)\n",
    "dfm[dfm['Median Income']=='(X)']\n",
    "dfm['Median Income']=dfm['Median Income'].str.replace('\\(X\\)','').str.replace('+','').str.replace(',','').str.replace('-','')\n",
    "dfm[[\"share_hispanic\",'share_asian','share_native_american','share_black','share_white','percent_completed_hs','poverty_rate', 'Median Income']] = dfm[[\"share_hispanic\",'share_asian','share_native_american','share_black','share_white','percent_completed_hs','poverty_rate', 'Median Income']].apply(pd.to_numeric)\n",
    "dfm['Median Income']= dfm[['state','Median Income']].groupby(\"state\").transform(lambda x: x.fillna(x.median()))\n",
    "dfm.drop(['state','city', 'state_name'], axis=1, inplace=True)"
   ]
  },
  {
   "cell_type": "code",
   "execution_count": 48,
   "metadata": {},
   "outputs": [],
   "source": [
    "dfm_temp=dfm.copy()"
   ]
  },
  {
   "cell_type": "code",
   "execution_count": 49,
   "metadata": {},
   "outputs": [],
   "source": [
    "dfm_temp.columns=['Median Income', 'poverty_rate', 'percent_completed_hs', 'share_white',\n",
    "       'share_black', 'share_native_american', 'share_asian', 'share_hispanic',\n",
    "       'pop_total_state', 'population', 'nb_period0', 'nb_period1',\n",
    "       'nb_period2', 'nb_period3', 'nb_period4']"
   ]
  },
  {
   "cell_type": "code",
   "execution_count": 50,
   "metadata": {},
   "outputs": [
    {
     "data": {
      "text/plain": [
       "[['share_white', 'share_black', -0.82],\n",
       " ['nb_period0', 'nb_period1', 0.85],\n",
       " ['nb_period0', 'nb_period2', 0.87],\n",
       " ['nb_period1', 'nb_period2', 0.86],\n",
       " ['nb_period0', 'nb_period3', 0.81],\n",
       " ['nb_period1', 'nb_period3', 0.79],\n",
       " ['nb_period2', 'nb_period3', 0.85],\n",
       " ['nb_period0', 'nb_period4', 0.77],\n",
       " ['nb_period1', 'nb_period4', 0.74],\n",
       " ['nb_period2', 'nb_period4', 0.82],\n",
       " ['nb_period3', 'nb_period4', 0.84]]"
      ]
     },
     "execution_count": 50,
     "metadata": {},
     "output_type": "execute_result"
    },
    {
     "data": {
      "image/png": "[encoded data removed]",
      "text/plain": [
       "<Figure size 576x432 with 2 Axes>"
      ]
     },
     "metadata": {
      "needs_background": "light"
     },
     "output_type": "display_data"
    }
   ],
   "source": [
    "corr_f(dfm_temp)"
   ]
  },
  {
   "cell_type": "code",
   "execution_count": 51,
   "metadata": {},
   "outputs": [
    {
     "data": {
      "text/plain": [
       "Text(0.5, 1.0, 'Education / Fatal Shootings by cities')"
      ]
     },
     "execution_count": 51,
     "metadata": {},
     "output_type": "execute_result"
    },
    {
     "data": {
      "image/png": "[encoded data removed]",
      "text/plain": [
       "<Figure size 1008x288 with 3 Axes>"
      ]
     },
     "metadata": {
      "needs_background": "light"
     },
     "output_type": "display_data"
    }
   ],
   "source": [
    "fig, axes=plt.subplots(1,3, figsize=(14,4))\n",
    "axes[0].scatter(dfm['y'], dfm['Median Income'], marker = 'o', edgecolors = 'black')\n",
    "axes[0].set_title('Median Income / Fatal Shootings by cities')\n",
    "axes[1].scatter(dfm['y'], dfm['poverty_rate'], marker = 'o', edgecolors = 'black')\n",
    "axes[1].set_title('Poverty_rate / Fatal Shootings by cities')\n",
    "axes[2].scatter(dfm['y'], dfm['percent_completed_hs'], marker = 'o', edgecolors = 'black')\n",
    "axes[2].set_title('Education / Fatal Shootings by cities')"
   ]
  },
  {
   "cell_type": "markdown",
   "metadata": {},
   "source": [
    "# Modeling"
   ]
  },
  {
   "cell_type": "code",
   "execution_count": 52,
   "metadata": {},
   "outputs": [
    {
     "name": "stdout",
     "output_type": "stream",
     "text": [
      "<class 'pandas.core.frame.DataFrame'>\n",
      "RangeIndex: 19639 entries, 0 to 19638\n",
      "Data columns (total 15 columns):\n",
      " #   Column                 Non-Null Count  Dtype  \n",
      "---  ------                 --------------  -----  \n",
      " 0   Median Income          19639 non-null  float64\n",
      " 1   poverty_rate           19639 non-null  float64\n",
      " 2   percent_completed_hs   19639 non-null  float64\n",
      " 3   share_white            19639 non-null  float64\n",
      " 4   share_black            19639 non-null  float64\n",
      " 5   share_native_american  19639 non-null  float64\n",
      " 6   share_asian            19639 non-null  float64\n",
      " 7   share_hispanic         19639 non-null  float64\n",
      " 8   pop_total_state        19639 non-null  int64  \n",
      " 9   population             19639 non-null  float64\n",
      " 10  nb_period0             19639 non-null  float64\n",
      " 11  nb_period1             19639 non-null  float64\n",
      " 12  nb_period2             19639 non-null  float64\n",
      " 13  nb_period3             19639 non-null  float64\n",
      " 14  y                      19639 non-null  float64\n",
      "dtypes: float64(14), int64(1)\n",
      "memory usage: 2.2 MB\n"
     ]
    }
   ],
   "source": [
    "dfm.info()"
   ]
  },
  {
   "cell_type": "code",
   "execution_count": 55,
   "metadata": {},
   "outputs": [
    {
     "name": "stderr",
     "output_type": "stream",
     "text": [
      "C:\\Users\\auror\\anaconda3\\lib\\site-packages\\ipykernel_launcher.py:2: UserWarning: To output multiple subplots, the figure containing the passed axes is being cleared\n",
      "  \n"
     ]
    },
    {
     "data": {
      "image/png": "[encoded data removed]",
      "text/plain": [
       "<Figure size 1080x1080 with 16 Axes>"
      ]
     },
     "metadata": {
      "needs_background": "light"
     },
     "output_type": "display_data"
    }
   ],
   "source": [
    "fig, ax = plt.subplots(figsize = (15,15))\n",
    "dfm.hist(ax = ax, bins=50)\n",
    "plt.show()"
   ]
  },
  {
   "cell_type": "code",
   "execution_count": 56,
   "metadata": {},
   "outputs": [
    {
     "data": {
      "text/plain": [
       "<matplotlib.axes._subplots.AxesSubplot at 0x20376b3bf08>"
      ]
     },
     "execution_count": 56,
     "metadata": {},
     "output_type": "execute_result"
    },
    {
     "data": {
      "image/png": "[encoded data removed]",
      "text/plain": [
       "<Figure size 432x288 with 1 Axes>"
      ]
     },
     "metadata": {
      "needs_background": "light"
     },
     "output_type": "display_data"
    }
   ],
   "source": [
    "dfm.y.hist(bins=100)"
   ]
  },
  {
   "cell_type": "code",
   "execution_count": 57,
   "metadata": {},
   "outputs": [
    {
     "data": {
      "text/plain": [
       "<matplotlib.axes._subplots.AxesSubplot at 0x20375b4bf08>"
      ]
     },
     "execution_count": 57,
     "metadata": {},
     "output_type": "execute_result"
    },
    {
     "data": {
      "image/png": "[encoded data removed]",
      "text/plain": [
       "<Figure size 432x288 with 1 Axes>"
      ]
     },
     "metadata": {
      "needs_background": "light"
     },
     "output_type": "display_data"
    }
   ],
   "source": [
    "dfm_temp=dfm.drop(dfm[dfm.y==0].index).reset_index(drop=True)\n",
    "dfm_temp.y.hist(bins=100)"
   ]
  },
  {
   "cell_type": "markdown",
   "metadata": {},
   "source": [
    "The distribution is not normal, so the best model seems to be here Tweedie Regressor"
   ]
  },
  {
   "cell_type": "code",
   "execution_count": 58,
   "metadata": {},
   "outputs": [],
   "source": [
    "#function score\n",
    "def score_estimator(\n",
    "    estimator, X_train, X_test, df_train, df_test, target, weights,\n",
    "    tweedie_powers=None,\n",
    "):\n",
    "    \"\"\"Evaluate an estimator on train and test sets with different metrics\"\"\"\n",
    "\n",
    "    metrics = [\n",
    "        (\"D² explained\", None),   # Use default scorer if it exists\n",
    "        (\"mean abs. error\", mean_absolute_error),\n",
    "        (\"mean squared error\", mean_squared_error),\n",
    "    ]\n",
    "    if tweedie_powers:\n",
    "        metrics += [(\n",
    "            \"mean Tweedie dev p={:.4f}\".format(power),\n",
    "            partial(mean_tweedie_deviance, power=power)\n",
    "        ) for power in tweedie_powers]\n",
    "\n",
    "    res = []\n",
    "    for subset_label, X, df in [\n",
    "        (\"train\", X_train, df_train),\n",
    "        (\"test\", X_test, df_test),\n",
    "    ]:\n",
    "        y, _weights = df[target], df[weights]\n",
    "        for score_label, metric in metrics:\n",
    "            if isinstance(estimator, tuple) and len(estimator) == 2:\n",
    "                # Score the model consisting of the product of frequency and\n",
    "                # severity models.\n",
    "                est_freq, est_sev = estimator\n",
    "                y_pred = est_freq.predict(X) * est_sev.predict(X)\n",
    "            else:\n",
    "                y_pred = estimator.predict(X)\n",
    "\n",
    "            if metric is None:\n",
    "                if not hasattr(estimator, \"score\"):\n",
    "                    continue\n",
    "                score = estimator.score(X, y, sample_weight=_weights)\n",
    "            else:\n",
    "                score = metric(y, y_pred, sample_weight=_weights)\n",
    "\n",
    "            res.append(\n",
    "                {\"subset\": subset_label, \"metric\": score_label, \"score\": score}\n",
    "            )\n",
    "\n",
    "    res = (\n",
    "        pd.DataFrame(res)\n",
    "        .set_index([\"metric\", \"subset\"])\n",
    "        .score.unstack(-1)\n",
    "        .round(4)\n",
    "        .loc[:, ['train', 'test']]\n",
    "    )\n",
    "    return res"
   ]
  },
  {
   "cell_type": "code",
   "execution_count": 59,
   "metadata": {},
   "outputs": [],
   "source": [
    "#function tweedie\n",
    "dfm1=dfm.copy()\n",
    "dfm1=dfm1.applymap(lambda x : 0.0001 if x ==0 else x)\n",
    "col_t=['Median Income', 'poverty_rate', 'percent_completed_hs', 'share_white',\n",
    "           'share_black', 'share_native_american', 'share_asian', 'share_hispanic',\n",
    "           'pop_total_state', 'population', 'nb_period0', 'nb_period1',\n",
    "           'nb_period2', 'nb_period3']\n",
    "\n",
    "def f_tweedie(dfm1, col_t):\n",
    "    log_scale_transformer = make_pipeline(\n",
    "        FunctionTransformer(func=np.log),\n",
    "        StandardScaler()\n",
    "    )\n",
    "    \n",
    "    column_trans = ColumnTransformer(\n",
    "        [\n",
    "            (\"log_scaled_numeric\", log_scale_transformer, col_t),\n",
    "        ],\n",
    "    )\n",
    "    X = column_trans.fit_transform(dfm1)\n",
    "    df_train, df_test, X_train, X_test = train_test_split(dfm1, X, random_state=0)\n",
    "\n",
    "    glm_pure_premium = TweedieRegressor(power=1.9, alpha=.1, max_iter=10000)\n",
    "    glm_pure_premium.fit(X_train, df_train['y'], sample_weight=df_train[\"y\"])\n",
    "\n",
    "    tweedie_powers = [1.3,1.5, 1.8, 1.9, 2, 2.3, 2.31,2.32, 2.5, 3]\n",
    "\n",
    "    scores_glm_pure_premium = score_estimator(\n",
    "        glm_pure_premium,\n",
    "        X_train,\n",
    "        X_test,\n",
    "        df_train,\n",
    "        df_test,\n",
    "        target=\"y\",\n",
    "        weights=\"y\",\n",
    "        tweedie_powers=tweedie_powers\n",
    "    )\n",
    "    return scores_glm_pure_premium"
   ]
  },
  {
   "cell_type": "code",
   "execution_count": 60,
   "metadata": {},
   "outputs": [
    {
     "data": {
      "text/html": [
       "<div>\n",
       "<style scoped>\n",
       "    .dataframe tbody tr th:only-of-type {\n",
       "        vertical-align: middle;\n",
       "    }\n",
       "\n",
       "    .dataframe tbody tr th {\n",
       "        vertical-align: top;\n",
       "    }\n",
       "\n",
       "    .dataframe thead th {\n",
       "        text-align: right;\n",
       "    }\n",
       "</style>\n",
       "<table border=\"1\" class=\"dataframe\">\n",
       "  <thead>\n",
       "    <tr style=\"text-align: right;\">\n",
       "      <th>subset</th>\n",
       "      <th>train</th>\n",
       "      <th>test</th>\n",
       "    </tr>\n",
       "    <tr>\n",
       "      <th>metric</th>\n",
       "      <th></th>\n",
       "      <th></th>\n",
       "    </tr>\n",
       "  </thead>\n",
       "  <tbody>\n",
       "    <tr>\n",
       "      <th>D² explained</th>\n",
       "      <td>0.7177</td>\n",
       "      <td>0.5631</td>\n",
       "    </tr>\n",
       "    <tr>\n",
       "      <th>mean Tweedie dev p=1.3000</th>\n",
       "      <td>1.3721</td>\n",
       "      <td>1.5890</td>\n",
       "    </tr>\n",
       "    <tr>\n",
       "      <th>mean Tweedie dev p=1.5000</th>\n",
       "      <td>0.9191</td>\n",
       "      <td>1.1494</td>\n",
       "    </tr>\n",
       "    <tr>\n",
       "      <th>mean Tweedie dev p=1.8000</th>\n",
       "      <td>0.5463</td>\n",
       "      <td>0.7634</td>\n",
       "    </tr>\n",
       "    <tr>\n",
       "      <th>mean Tweedie dev p=1.9000</th>\n",
       "      <td>0.4701</td>\n",
       "      <td>0.6806</td>\n",
       "    </tr>\n",
       "    <tr>\n",
       "      <th>mean Tweedie dev p=2.0000</th>\n",
       "      <td>0.4104</td>\n",
       "      <td>0.6144</td>\n",
       "    </tr>\n",
       "    <tr>\n",
       "      <th>mean Tweedie dev p=2.3000</th>\n",
       "      <td>0.3213</td>\n",
       "      <td>0.5106</td>\n",
       "    </tr>\n",
       "    <tr>\n",
       "      <th>mean Tweedie dev p=2.3100</th>\n",
       "      <td>0.3212</td>\n",
       "      <td>0.5103</td>\n",
       "    </tr>\n",
       "    <tr>\n",
       "      <th>mean Tweedie dev p=2.3200</th>\n",
       "      <td>0.3214</td>\n",
       "      <td>0.5103</td>\n",
       "    </tr>\n",
       "    <tr>\n",
       "      <th>mean Tweedie dev p=2.5000</th>\n",
       "      <td>0.3972</td>\n",
       "      <td>0.5892</td>\n",
       "    </tr>\n",
       "    <tr>\n",
       "      <th>mean Tweedie dev p=3.0000</th>\n",
       "      <td>7.0523</td>\n",
       "      <td>7.8674</td>\n",
       "    </tr>\n",
       "    <tr>\n",
       "      <th>mean abs. error</th>\n",
       "      <td>3.9047</td>\n",
       "      <td>3.4109</td>\n",
       "    </tr>\n",
       "    <tr>\n",
       "      <th>mean squared error</th>\n",
       "      <td>43.6789</td>\n",
       "      <td>29.8350</td>\n",
       "    </tr>\n",
       "  </tbody>\n",
       "</table>\n",
       "</div>"
      ],
      "text/plain": [
       "subset                       train     test\n",
       "metric                                     \n",
       "D² explained                0.7177   0.5631\n",
       "mean Tweedie dev p=1.3000   1.3721   1.5890\n",
       "mean Tweedie dev p=1.5000   0.9191   1.1494\n",
       "mean Tweedie dev p=1.8000   0.5463   0.7634\n",
       "mean Tweedie dev p=1.9000   0.4701   0.6806\n",
       "mean Tweedie dev p=2.0000   0.4104   0.6144\n",
       "mean Tweedie dev p=2.3000   0.3213   0.5106\n",
       "mean Tweedie dev p=2.3100   0.3212   0.5103\n",
       "mean Tweedie dev p=2.3200   0.3214   0.5103\n",
       "mean Tweedie dev p=2.5000   0.3972   0.5892\n",
       "mean Tweedie dev p=3.0000   7.0523   7.8674\n",
       "mean abs. error             3.9047   3.4109\n",
       "mean squared error         43.6789  29.8350"
      ]
     },
     "execution_count": 60,
     "metadata": {},
     "output_type": "execute_result"
    }
   ],
   "source": [
    "f_tweedie(dfm1, col_t)"
   ]
  },
  {
   "cell_type": "code",
   "execution_count": 62,
   "metadata": {},
   "outputs": [
    {
     "data": {
      "text/html": [
       "<div>\n",
       "<style scoped>\n",
       "    .dataframe tbody tr th:only-of-type {\n",
       "        vertical-align: middle;\n",
       "    }\n",
       "\n",
       "    .dataframe tbody tr th {\n",
       "        vertical-align: top;\n",
       "    }\n",
       "\n",
       "    .dataframe thead th {\n",
       "        text-align: right;\n",
       "    }\n",
       "</style>\n",
       "<table border=\"1\" class=\"dataframe\">\n",
       "  <thead>\n",
       "    <tr style=\"text-align: right;\">\n",
       "      <th>subset</th>\n",
       "      <th>train</th>\n",
       "      <th>test</th>\n",
       "    </tr>\n",
       "    <tr>\n",
       "      <th>metric</th>\n",
       "      <th></th>\n",
       "      <th></th>\n",
       "    </tr>\n",
       "  </thead>\n",
       "  <tbody>\n",
       "    <tr>\n",
       "      <th>D² explained</th>\n",
       "      <td>-0.5407</td>\n",
       "      <td>-0.6426</td>\n",
       "    </tr>\n",
       "    <tr>\n",
       "      <th>mean abs. error</th>\n",
       "      <td>8.2781</td>\n",
       "      <td>7.5482</td>\n",
       "    </tr>\n",
       "    <tr>\n",
       "      <th>mean squared error</th>\n",
       "      <td>195.2634</td>\n",
       "      <td>145.6299</td>\n",
       "    </tr>\n",
       "  </tbody>\n",
       "</table>\n",
       "</div>"
      ],
      "text/plain": [
       "subset                 train      test\n",
       "metric                                \n",
       "D² explained         -0.5407   -0.6426\n",
       "mean abs. error       8.2781    7.5482\n",
       "mean squared error  195.2634  145.6299"
      ]
     },
     "execution_count": 62,
     "metadata": {},
     "output_type": "execute_result"
    }
   ],
   "source": [
    "#DummyRegressor only to compare with the results of tweedie\n",
    "log_scale_transformer = make_pipeline(\n",
    "    FunctionTransformer(func=np.log),\n",
    "    StandardScaler()\n",
    ")\n",
    "\n",
    "column_trans = ColumnTransformer(\n",
    "    [\n",
    "        (\"log_scaled_numeric\", log_scale_transformer, col_t),\n",
    "    ],\n",
    ")\n",
    "X = column_trans.fit_transform(dfm1)\n",
    "df_train, df_test, X_train, X_test = train_test_split(dfm1, X, random_state=0)\n",
    "\n",
    "dummy_regr = DummyRegressor(strategy=\"mean\")\n",
    "dummy_regr.fit(X_train, df_train['y'])\n",
    "scores_dummy_regr=score_estimator(\n",
    "    dummy_regr,\n",
    "    X_train,\n",
    "    X_test,\n",
    "    df_train,\n",
    "    df_test,\n",
    "    target=\"y\",\n",
    "    weights=\"y\"\n",
    ")\n",
    "scores_dummy_regr"
   ]
  },
  {
   "cell_type": "code",
   "execution_count": 63,
   "metadata": {},
   "outputs": [
    {
     "data": {
      "text/html": [
       "<div>\n",
       "<style scoped>\n",
       "    .dataframe tbody tr th:only-of-type {\n",
       "        vertical-align: middle;\n",
       "    }\n",
       "\n",
       "    .dataframe tbody tr th {\n",
       "        vertical-align: top;\n",
       "    }\n",
       "\n",
       "    .dataframe thead th {\n",
       "        text-align: right;\n",
       "    }\n",
       "</style>\n",
       "<table border=\"1\" class=\"dataframe\">\n",
       "  <thead>\n",
       "    <tr style=\"text-align: right;\">\n",
       "      <th>subset</th>\n",
       "      <th>train</th>\n",
       "      <th>test</th>\n",
       "    </tr>\n",
       "    <tr>\n",
       "      <th>metric</th>\n",
       "      <th></th>\n",
       "      <th></th>\n",
       "    </tr>\n",
       "  </thead>\n",
       "  <tbody>\n",
       "    <tr>\n",
       "      <th>D² explained</th>\n",
       "      <td>-0.0593</td>\n",
       "      <td>-0.0573</td>\n",
       "    </tr>\n",
       "    <tr>\n",
       "      <th>mean abs. error</th>\n",
       "      <td>6.1579</td>\n",
       "      <td>5.5212</td>\n",
       "    </tr>\n",
       "    <tr>\n",
       "      <th>mean squared error</th>\n",
       "      <td>134.2553</td>\n",
       "      <td>93.7391</td>\n",
       "    </tr>\n",
       "  </tbody>\n",
       "</table>\n",
       "</div>"
      ],
      "text/plain": [
       "subset                 train     test\n",
       "metric                               \n",
       "D² explained         -0.0593  -0.0573\n",
       "mean abs. error       6.1579   5.5212\n",
       "mean squared error  134.2553  93.7391"
      ]
     },
     "execution_count": 63,
     "metadata": {},
     "output_type": "execute_result"
    }
   ],
   "source": [
    "#Linear Regression to compare results too\n",
    "lreg=LinearRegression()\n",
    "lreg.fit(X_train, df_train['y'])\n",
    "\n",
    "scores_dummy_lreg=score_estimator(\n",
    "    lreg,\n",
    "    X_train,\n",
    "    X_test,\n",
    "    df_train,\n",
    "    df_test,\n",
    "    target=\"y\",\n",
    "    weights=\"y\"\n",
    ")\n",
    "scores_dummy_lreg"
   ]
  },
  {
   "cell_type": "code",
   "execution_count": 66,
   "metadata": {},
   "outputs": [
    {
     "name": "stdout",
     "output_type": "stream",
     "text": [
      "For k= 4 the features selected are : Index(['nb_period0', 'nb_period1', 'nb_period2', 'nb_period3'], dtype='object')\n",
      "For k= 5 the features selected are : Index(['population', 'nb_period0', 'nb_period1', 'nb_period2', 'nb_period3'], dtype='object')\n",
      "For k= 6 the features selected are : Index(['Median Income', 'population', 'nb_period0', 'nb_period1', 'nb_period2',\n",
      "       'nb_period3'],\n",
      "      dtype='object')\n",
      "For k= 7 the features selected are : Index(['Median Income', 'pop_total_state', 'population', 'nb_period0',\n",
      "       'nb_period1', 'nb_period2', 'nb_period3'],\n",
      "      dtype='object')\n",
      "For k= 8 the features selected are : Index(['Median Income', 'share_native_american', 'pop_total_state',\n",
      "       'population', 'nb_period0', 'nb_period1', 'nb_period2', 'nb_period3'],\n",
      "      dtype='object')\n"
     ]
    }
   ],
   "source": [
    "#test with feature selection \n",
    "for k in range(4,9):\n",
    "    estimator=TweedieRegressor()\n",
    "    sfs1=sfs(estimator, \n",
    "             k_features=k,\n",
    "             forward=True,\n",
    "             floating=False,\n",
    "             scoring='neg_mean_squared_error', #default - R2\n",
    "            )\n",
    "\n",
    "    sfs1.fit(X_train, df_train['y'])\n",
    "    sfs1.get_metric_dict()\n",
    "    l=[int(i) for i in list(sfs1.k_feature_names_)]\n",
    "    dfm_temp=dfm.iloc[:,l]\n",
    "    print('For k=',k, 'the features selected are :', dfm_temp.columns)"
   ]
  },
  {
   "cell_type": "code",
   "execution_count": 71,
   "metadata": {},
   "outputs": [],
   "source": [
    "dfm2=dfm1.iloc[:,[10, 11, 12, 13,14]]\n",
    "col_t2=['nb_period0', 'nb_period1', 'nb_period2',\n",
    "       'nb_period3']"
   ]
  },
  {
   "cell_type": "code",
   "execution_count": 72,
   "metadata": {},
   "outputs": [
    {
     "data": {
      "text/html": [
       "<div>\n",
       "<style scoped>\n",
       "    .dataframe tbody tr th:only-of-type {\n",
       "        vertical-align: middle;\n",
       "    }\n",
       "\n",
       "    .dataframe tbody tr th {\n",
       "        vertical-align: top;\n",
       "    }\n",
       "\n",
       "    .dataframe thead th {\n",
       "        text-align: right;\n",
       "    }\n",
       "</style>\n",
       "<table border=\"1\" class=\"dataframe\">\n",
       "  <thead>\n",
       "    <tr style=\"text-align: right;\">\n",
       "      <th>subset</th>\n",
       "      <th>train</th>\n",
       "      <th>test</th>\n",
       "    </tr>\n",
       "    <tr>\n",
       "      <th>metric</th>\n",
       "      <th></th>\n",
       "      <th></th>\n",
       "    </tr>\n",
       "  </thead>\n",
       "  <tbody>\n",
       "    <tr>\n",
       "      <th>D² explained</th>\n",
       "      <td>0.6746</td>\n",
       "      <td>0.7033</td>\n",
       "    </tr>\n",
       "    <tr>\n",
       "      <th>mean Tweedie dev p=1.3000</th>\n",
       "      <td>1.6590</td>\n",
       "      <td>1.3696</td>\n",
       "    </tr>\n",
       "    <tr>\n",
       "      <th>mean Tweedie dev p=1.5000</th>\n",
       "      <td>1.0989</td>\n",
       "      <td>0.9207</td>\n",
       "    </tr>\n",
       "    <tr>\n",
       "      <th>mean Tweedie dev p=1.8000</th>\n",
       "      <td>0.6365</td>\n",
       "      <td>0.5408</td>\n",
       "    </tr>\n",
       "    <tr>\n",
       "      <th>mean Tweedie dev p=1.9000</th>\n",
       "      <td>0.5419</td>\n",
       "      <td>0.4623</td>\n",
       "    </tr>\n",
       "    <tr>\n",
       "      <th>mean Tweedie dev p=2.0000</th>\n",
       "      <td>0.4673</td>\n",
       "      <td>0.4006</td>\n",
       "    </tr>\n",
       "    <tr>\n",
       "      <th>mean Tweedie dev p=2.3000</th>\n",
       "      <td>0.3488</td>\n",
       "      <td>0.3106</td>\n",
       "    </tr>\n",
       "    <tr>\n",
       "      <th>mean Tweedie dev p=2.3100</th>\n",
       "      <td>0.3481</td>\n",
       "      <td>0.3108</td>\n",
       "    </tr>\n",
       "    <tr>\n",
       "      <th>mean Tweedie dev p=2.3200</th>\n",
       "      <td>0.3476</td>\n",
       "      <td>0.3112</td>\n",
       "    </tr>\n",
       "    <tr>\n",
       "      <th>mean Tweedie dev p=2.5000</th>\n",
       "      <td>0.4131</td>\n",
       "      <td>0.3974</td>\n",
       "    </tr>\n",
       "    <tr>\n",
       "      <th>mean Tweedie dev p=3.0000</th>\n",
       "      <td>7.0523</td>\n",
       "      <td>7.6911</td>\n",
       "    </tr>\n",
       "    <tr>\n",
       "      <th>mean abs. error</th>\n",
       "      <td>4.3067</td>\n",
       "      <td>3.6551</td>\n",
       "    </tr>\n",
       "    <tr>\n",
       "      <th>mean squared error</th>\n",
       "      <td>51.6278</td>\n",
       "      <td>33.3047</td>\n",
       "    </tr>\n",
       "  </tbody>\n",
       "</table>\n",
       "</div>"
      ],
      "text/plain": [
       "subset                       train     test\n",
       "metric                                     \n",
       "D² explained                0.6746   0.7033\n",
       "mean Tweedie dev p=1.3000   1.6590   1.3696\n",
       "mean Tweedie dev p=1.5000   1.0989   0.9207\n",
       "mean Tweedie dev p=1.8000   0.6365   0.5408\n",
       "mean Tweedie dev p=1.9000   0.5419   0.4623\n",
       "mean Tweedie dev p=2.0000   0.4673   0.4006\n",
       "mean Tweedie dev p=2.3000   0.3488   0.3106\n",
       "mean Tweedie dev p=2.3100   0.3481   0.3108\n",
       "mean Tweedie dev p=2.3200   0.3476   0.3112\n",
       "mean Tweedie dev p=2.5000   0.4131   0.3974\n",
       "mean Tweedie dev p=3.0000   7.0523   7.6911\n",
       "mean abs. error             4.3067   3.6551\n",
       "mean squared error         51.6278  33.3047"
      ]
     },
     "execution_count": 72,
     "metadata": {},
     "output_type": "execute_result"
    }
   ],
   "source": [
    "f_tweedie(dfm2, col_t2)"
   ]
  },
  {
   "cell_type": "code",
   "execution_count": null,
   "metadata": {},
   "outputs": [],
   "source": []
  }
 ],
 "metadata": {
  "kernelspec": {
   "display_name": "Python 3",
   "language": "python",
   "name": "python3"
  },
  "language_info": {
   "codemirror_mode": {
    "name": "ipython",
    "version": 3
   },
   "file_extension": ".py",
   "mimetype": "text/x-python",
   "name": "python",
   "nbconvert_exporter": "python",
   "pygments_lexer": "ipython3",
   "version": "3.7.6"
  }
 },
 "nbformat": 4,
 "nbformat_minor": 4
}
